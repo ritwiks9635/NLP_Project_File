{
  "cells": [
    {
      "cell_type": "markdown",
      "metadata": {
        "id": "view-in-github",
        "colab_type": "text"
      },
      "source": [
        "<a href=\"https://colab.research.google.com/github/ritwiks9635/Natural_Language_Processing_Model/blob/main/Text_Similarity_Find.ipynb\" target=\"_parent\"><img src=\"https://colab.research.google.com/assets/colab-badge.svg\" alt=\"Open In Colab\"/></a>"
      ]
    },
    {
      "cell_type": "markdown",
      "metadata": {
        "id": "A_KMgnBgQRMN"
      },
      "source": [
        "# **🌜Document Similarity🌛**"
      ]
    },
    {
      "cell_type": "code",
      "execution_count": null,
      "metadata": {
        "colab": {
          "base_uri": "https://localhost:8080/"
        },
        "id": "MhzTKKJjM9zf",
        "outputId": "d2d605e3-7686-4fd6-b9b6-ac8093b30c35"
      },
      "outputs": [
        {
          "output_type": "stream",
          "name": "stdout",
          "text": [
            "Downloading quora-question-pairs.zip to /content\n",
            "100% 309M/309M [00:17<00:00, 21.5MB/s]\n",
            "100% 309M/309M [00:17<00:00, 18.7MB/s]\n"
          ]
        }
      ],
      "source": [
        "! kaggle competitions download -c quora-question-pairs"
      ]
    },
    {
      "cell_type": "markdown",
      "source": [
        "## **Import Necessary Packages**"
      ],
      "metadata": {
        "id": "pFQQLnsgzT1c"
      }
    },
    {
      "cell_type": "code",
      "execution_count": null,
      "metadata": {
        "id": "Or-Vtqx7PQKe"
      },
      "outputs": [],
      "source": [
        "import re\n",
        "import numpy as np\n",
        "import pandas as pd\n",
        "import matplotlib.pyplot as plt\n",
        "import seaborn as sns\n",
        "\n",
        "from sklearn.model_selection import train_test_split\n",
        "from sklearn.feature_extraction.text import TfidfVectorizer\n",
        "\n",
        "import warnings\n",
        "warnings.filterwarnings(\"ignore\")\n",
        "\n",
        "pd.set_option('display.max_colwidth', None)"
      ]
    },
    {
      "cell_type": "code",
      "execution_count": null,
      "metadata": {
        "colab": {
          "base_uri": "https://localhost:8080/",
          "height": 799
        },
        "id": "eHL2kfVdRaPg",
        "outputId": "dab1c3dd-ddf8-4b28-d44f-c03a4ce50a8f"
      },
      "outputs": [
        {
          "output_type": "execute_result",
          "data": {
            "text/plain": [
              "   id  qid1  qid2  \\\n",
              "0   0     1     2   \n",
              "1   1     3     4   \n",
              "2   2     5     6   \n",
              "3   3     7     8   \n",
              "4   4     9    10   \n",
              "\n",
              "                                                                      question1  \\\n",
              "0            What is the step by step guide to invest in share market in india?   \n",
              "1                           What is the story of Kohinoor (Koh-i-Noor) Diamond?   \n",
              "2     How can I increase the speed of my internet connection while using a VPN?   \n",
              "3                            Why am I mentally very lonely? How can I solve it?   \n",
              "4  Which one dissolve in water quikly sugar, salt, methane and carbon di oxide?   \n",
              "\n",
              "                                                                                  question2  \\\n",
              "0                                 What is the step by step guide to invest in share market?   \n",
              "1  What would happen if the Indian government stole the Kohinoor (Koh-i-Noor) diamond back?   \n",
              "2                               How can Internet speed be increased by hacking through DNS?   \n",
              "3                         Find the remainder when [math]23^{24}[/math] is divided by 24,23?   \n",
              "4                                                   Which fish would survive in salt water?   \n",
              "\n",
              "   is_duplicate  \n",
              "0             0  \n",
              "1             0  \n",
              "2             0  \n",
              "3             0  \n",
              "4             0  "
            ],
            "text/html": [
              "\n",
              "  <div id=\"df-8df0390b-5469-46cd-9919-a48cfeb40058\" class=\"colab-df-container\">\n",
              "    <div>\n",
              "<style scoped>\n",
              "    .dataframe tbody tr th:only-of-type {\n",
              "        vertical-align: middle;\n",
              "    }\n",
              "\n",
              "    .dataframe tbody tr th {\n",
              "        vertical-align: top;\n",
              "    }\n",
              "\n",
              "    .dataframe thead th {\n",
              "        text-align: right;\n",
              "    }\n",
              "</style>\n",
              "<table border=\"1\" class=\"dataframe\">\n",
              "  <thead>\n",
              "    <tr style=\"text-align: right;\">\n",
              "      <th></th>\n",
              "      <th>id</th>\n",
              "      <th>qid1</th>\n",
              "      <th>qid2</th>\n",
              "      <th>question1</th>\n",
              "      <th>question2</th>\n",
              "      <th>is_duplicate</th>\n",
              "    </tr>\n",
              "  </thead>\n",
              "  <tbody>\n",
              "    <tr>\n",
              "      <th>0</th>\n",
              "      <td>0</td>\n",
              "      <td>1</td>\n",
              "      <td>2</td>\n",
              "      <td>What is the step by step guide to invest in share market in india?</td>\n",
              "      <td>What is the step by step guide to invest in share market?</td>\n",
              "      <td>0</td>\n",
              "    </tr>\n",
              "    <tr>\n",
              "      <th>1</th>\n",
              "      <td>1</td>\n",
              "      <td>3</td>\n",
              "      <td>4</td>\n",
              "      <td>What is the story of Kohinoor (Koh-i-Noor) Diamond?</td>\n",
              "      <td>What would happen if the Indian government stole the Kohinoor (Koh-i-Noor) diamond back?</td>\n",
              "      <td>0</td>\n",
              "    </tr>\n",
              "    <tr>\n",
              "      <th>2</th>\n",
              "      <td>2</td>\n",
              "      <td>5</td>\n",
              "      <td>6</td>\n",
              "      <td>How can I increase the speed of my internet connection while using a VPN?</td>\n",
              "      <td>How can Internet speed be increased by hacking through DNS?</td>\n",
              "      <td>0</td>\n",
              "    </tr>\n",
              "    <tr>\n",
              "      <th>3</th>\n",
              "      <td>3</td>\n",
              "      <td>7</td>\n",
              "      <td>8</td>\n",
              "      <td>Why am I mentally very lonely? How can I solve it?</td>\n",
              "      <td>Find the remainder when [math]23^{24}[/math] is divided by 24,23?</td>\n",
              "      <td>0</td>\n",
              "    </tr>\n",
              "    <tr>\n",
              "      <th>4</th>\n",
              "      <td>4</td>\n",
              "      <td>9</td>\n",
              "      <td>10</td>\n",
              "      <td>Which one dissolve in water quikly sugar, salt, methane and carbon di oxide?</td>\n",
              "      <td>Which fish would survive in salt water?</td>\n",
              "      <td>0</td>\n",
              "    </tr>\n",
              "  </tbody>\n",
              "</table>\n",
              "</div>\n",
              "    <div class=\"colab-df-buttons\">\n",
              "\n",
              "  <div class=\"colab-df-container\">\n",
              "    <button class=\"colab-df-convert\" onclick=\"convertToInteractive('df-8df0390b-5469-46cd-9919-a48cfeb40058')\"\n",
              "            title=\"Convert this dataframe to an interactive table.\"\n",
              "            style=\"display:none;\">\n",
              "\n",
              "  <svg xmlns=\"http://www.w3.org/2000/svg\" height=\"24px\" viewBox=\"0 -960 960 960\">\n",
              "    <path d=\"M120-120v-720h720v720H120Zm60-500h600v-160H180v160Zm220 220h160v-160H400v160Zm0 220h160v-160H400v160ZM180-400h160v-160H180v160Zm440 0h160v-160H620v160ZM180-180h160v-160H180v160Zm440 0h160v-160H620v160Z\"/>\n",
              "  </svg>\n",
              "    </button>\n",
              "\n",
              "  <style>\n",
              "    .colab-df-container {\n",
              "      display:flex;\n",
              "      gap: 12px;\n",
              "    }\n",
              "\n",
              "    .colab-df-convert {\n",
              "      background-color: #E8F0FE;\n",
              "      border: none;\n",
              "      border-radius: 50%;\n",
              "      cursor: pointer;\n",
              "      display: none;\n",
              "      fill: #1967D2;\n",
              "      height: 32px;\n",
              "      padding: 0 0 0 0;\n",
              "      width: 32px;\n",
              "    }\n",
              "\n",
              "    .colab-df-convert:hover {\n",
              "      background-color: #E2EBFA;\n",
              "      box-shadow: 0px 1px 2px rgba(60, 64, 67, 0.3), 0px 1px 3px 1px rgba(60, 64, 67, 0.15);\n",
              "      fill: #174EA6;\n",
              "    }\n",
              "\n",
              "    .colab-df-buttons div {\n",
              "      margin-bottom: 4px;\n",
              "    }\n",
              "\n",
              "    [theme=dark] .colab-df-convert {\n",
              "      background-color: #3B4455;\n",
              "      fill: #D2E3FC;\n",
              "    }\n",
              "\n",
              "    [theme=dark] .colab-df-convert:hover {\n",
              "      background-color: #434B5C;\n",
              "      box-shadow: 0px 1px 3px 1px rgba(0, 0, 0, 0.15);\n",
              "      filter: drop-shadow(0px 1px 2px rgba(0, 0, 0, 0.3));\n",
              "      fill: #FFFFFF;\n",
              "    }\n",
              "  </style>\n",
              "\n",
              "    <script>\n",
              "      const buttonEl =\n",
              "        document.querySelector('#df-8df0390b-5469-46cd-9919-a48cfeb40058 button.colab-df-convert');\n",
              "      buttonEl.style.display =\n",
              "        google.colab.kernel.accessAllowed ? 'block' : 'none';\n",
              "\n",
              "      async function convertToInteractive(key) {\n",
              "        const element = document.querySelector('#df-8df0390b-5469-46cd-9919-a48cfeb40058');\n",
              "        const dataTable =\n",
              "          await google.colab.kernel.invokeFunction('convertToInteractive',\n",
              "                                                    [key], {});\n",
              "        if (!dataTable) return;\n",
              "\n",
              "        const docLinkHtml = 'Like what you see? Visit the ' +\n",
              "          '<a target=\"_blank\" href=https://colab.research.google.com/notebooks/data_table.ipynb>data table notebook</a>'\n",
              "          + ' to learn more about interactive tables.';\n",
              "        element.innerHTML = '';\n",
              "        dataTable['output_type'] = 'display_data';\n",
              "        await google.colab.output.renderOutput(dataTable, element);\n",
              "        const docLink = document.createElement('div');\n",
              "        docLink.innerHTML = docLinkHtml;\n",
              "        element.appendChild(docLink);\n",
              "      }\n",
              "    </script>\n",
              "  </div>\n",
              "\n",
              "\n",
              "<div id=\"df-53f30942-8803-45df-8365-a86841485210\">\n",
              "  <button class=\"colab-df-quickchart\" onclick=\"quickchart('df-53f30942-8803-45df-8365-a86841485210')\"\n",
              "            title=\"Suggest charts\"\n",
              "            style=\"display:none;\">\n",
              "\n",
              "<svg xmlns=\"http://www.w3.org/2000/svg\" height=\"24px\"viewBox=\"0 0 24 24\"\n",
              "     width=\"24px\">\n",
              "    <g>\n",
              "        <path d=\"M19 3H5c-1.1 0-2 .9-2 2v14c0 1.1.9 2 2 2h14c1.1 0 2-.9 2-2V5c0-1.1-.9-2-2-2zM9 17H7v-7h2v7zm4 0h-2V7h2v10zm4 0h-2v-4h2v4z\"/>\n",
              "    </g>\n",
              "</svg>\n",
              "  </button>\n",
              "\n",
              "<style>\n",
              "  .colab-df-quickchart {\n",
              "      --bg-color: #E8F0FE;\n",
              "      --fill-color: #1967D2;\n",
              "      --hover-bg-color: #E2EBFA;\n",
              "      --hover-fill-color: #174EA6;\n",
              "      --disabled-fill-color: #AAA;\n",
              "      --disabled-bg-color: #DDD;\n",
              "  }\n",
              "\n",
              "  [theme=dark] .colab-df-quickchart {\n",
              "      --bg-color: #3B4455;\n",
              "      --fill-color: #D2E3FC;\n",
              "      --hover-bg-color: #434B5C;\n",
              "      --hover-fill-color: #FFFFFF;\n",
              "      --disabled-bg-color: #3B4455;\n",
              "      --disabled-fill-color: #666;\n",
              "  }\n",
              "\n",
              "  .colab-df-quickchart {\n",
              "    background-color: var(--bg-color);\n",
              "    border: none;\n",
              "    border-radius: 50%;\n",
              "    cursor: pointer;\n",
              "    display: none;\n",
              "    fill: var(--fill-color);\n",
              "    height: 32px;\n",
              "    padding: 0;\n",
              "    width: 32px;\n",
              "  }\n",
              "\n",
              "  .colab-df-quickchart:hover {\n",
              "    background-color: var(--hover-bg-color);\n",
              "    box-shadow: 0 1px 2px rgba(60, 64, 67, 0.3), 0 1px 3px 1px rgba(60, 64, 67, 0.15);\n",
              "    fill: var(--button-hover-fill-color);\n",
              "  }\n",
              "\n",
              "  .colab-df-quickchart-complete:disabled,\n",
              "  .colab-df-quickchart-complete:disabled:hover {\n",
              "    background-color: var(--disabled-bg-color);\n",
              "    fill: var(--disabled-fill-color);\n",
              "    box-shadow: none;\n",
              "  }\n",
              "\n",
              "  .colab-df-spinner {\n",
              "    border: 2px solid var(--fill-color);\n",
              "    border-color: transparent;\n",
              "    border-bottom-color: var(--fill-color);\n",
              "    animation:\n",
              "      spin 1s steps(1) infinite;\n",
              "  }\n",
              "\n",
              "  @keyframes spin {\n",
              "    0% {\n",
              "      border-color: transparent;\n",
              "      border-bottom-color: var(--fill-color);\n",
              "      border-left-color: var(--fill-color);\n",
              "    }\n",
              "    20% {\n",
              "      border-color: transparent;\n",
              "      border-left-color: var(--fill-color);\n",
              "      border-top-color: var(--fill-color);\n",
              "    }\n",
              "    30% {\n",
              "      border-color: transparent;\n",
              "      border-left-color: var(--fill-color);\n",
              "      border-top-color: var(--fill-color);\n",
              "      border-right-color: var(--fill-color);\n",
              "    }\n",
              "    40% {\n",
              "      border-color: transparent;\n",
              "      border-right-color: var(--fill-color);\n",
              "      border-top-color: var(--fill-color);\n",
              "    }\n",
              "    60% {\n",
              "      border-color: transparent;\n",
              "      border-right-color: var(--fill-color);\n",
              "    }\n",
              "    80% {\n",
              "      border-color: transparent;\n",
              "      border-right-color: var(--fill-color);\n",
              "      border-bottom-color: var(--fill-color);\n",
              "    }\n",
              "    90% {\n",
              "      border-color: transparent;\n",
              "      border-bottom-color: var(--fill-color);\n",
              "    }\n",
              "  }\n",
              "</style>\n",
              "\n",
              "  <script>\n",
              "    async function quickchart(key) {\n",
              "      const quickchartButtonEl =\n",
              "        document.querySelector('#' + key + ' button');\n",
              "      quickchartButtonEl.disabled = true;  // To prevent multiple clicks.\n",
              "      quickchartButtonEl.classList.add('colab-df-spinner');\n",
              "      try {\n",
              "        const charts = await google.colab.kernel.invokeFunction(\n",
              "            'suggestCharts', [key], {});\n",
              "      } catch (error) {\n",
              "        console.error('Error during call to suggestCharts:', error);\n",
              "      }\n",
              "      quickchartButtonEl.classList.remove('colab-df-spinner');\n",
              "      quickchartButtonEl.classList.add('colab-df-quickchart-complete');\n",
              "    }\n",
              "    (() => {\n",
              "      let quickchartButtonEl =\n",
              "        document.querySelector('#df-53f30942-8803-45df-8365-a86841485210 button');\n",
              "      quickchartButtonEl.style.display =\n",
              "        google.colab.kernel.accessAllowed ? 'block' : 'none';\n",
              "    })();\n",
              "  </script>\n",
              "</div>\n",
              "\n",
              "    </div>\n",
              "  </div>\n"
            ],
            "application/vnd.google.colaboratory.intrinsic+json": {
              "type": "dataframe",
              "variable_name": "train_data"
            }
          },
          "metadata": {},
          "execution_count": 10
        }
      ],
      "source": [
        "train_data = pd.read_csv(\"/content/train.csv\")\n",
        "train_data.head()"
      ]
    },
    {
      "cell_type": "markdown",
      "metadata": {
        "id": "estH1KGOR_rr"
      },
      "source": [
        "### **Data fields**\n",
        "- **id** - the id of a training set question pair\n",
        "- **qid1, qid2** - unique ids of each question (only available in train.csv)\n",
        "- **question1, question2** - the full text of each question\n",
        "- **is_duplicate** - the target variable, set to 1 if question1 and question2 have essentially the same meaning, and 0 otherwise."
      ]
    },
    {
      "cell_type": "code",
      "execution_count": null,
      "metadata": {
        "colab": {
          "base_uri": "https://localhost:8080/"
        },
        "id": "jdx378S0qJtU",
        "outputId": "efd91c94-d86a-4a0d-e4b8-943c3ec2fb58"
      },
      "outputs": [
        {
          "output_type": "execute_result",
          "data": {
            "text/plain": [
              "(404290, 6)"
            ]
          },
          "metadata": {},
          "execution_count": 11
        }
      ],
      "source": [
        "train_data.shape"
      ]
    },
    {
      "cell_type": "code",
      "execution_count": null,
      "metadata": {
        "colab": {
          "base_uri": "https://localhost:8080/"
        },
        "id": "nXxAJyXFYYGj",
        "outputId": "6b62cc4f-2ba1-4769-febd-a188c39d6c39"
      },
      "outputs": [
        {
          "output_type": "stream",
          "name": "stdout",
          "text": [
            "<class 'pandas.core.frame.DataFrame'>\n",
            "RangeIndex: 404290 entries, 0 to 404289\n",
            "Data columns (total 6 columns):\n",
            " #   Column        Non-Null Count   Dtype \n",
            "---  ------        --------------   ----- \n",
            " 0   id            404290 non-null  int64 \n",
            " 1   qid1          404290 non-null  int64 \n",
            " 2   qid2          404290 non-null  int64 \n",
            " 3   question1     404289 non-null  object\n",
            " 4   question2     404288 non-null  object\n",
            " 5   is_duplicate  404290 non-null  int64 \n",
            "dtypes: int64(4), object(2)\n",
            "memory usage: 18.5+ MB\n"
          ]
        }
      ],
      "source": [
        "train_data.info()"
      ]
    },
    {
      "cell_type": "markdown",
      "source": [
        "## **EDA & Data Preprocessing**"
      ],
      "metadata": {
        "id": "O1Z5F59Yze1x"
      }
    },
    {
      "cell_type": "code",
      "execution_count": null,
      "metadata": {
        "colab": {
          "base_uri": "https://localhost:8080/",
          "height": 178
        },
        "id": "xgwt8ORaRa4Y",
        "outputId": "01a52ffc-c49b-4e1e-cc16-3714c399c354"
      },
      "outputs": [
        {
          "output_type": "execute_result",
          "data": {
            "text/plain": [
              "is_duplicate\n",
              "0    255027\n",
              "1    149263\n",
              "Name: count, dtype: int64"
            ],
            "text/html": [
              "<div>\n",
              "<style scoped>\n",
              "    .dataframe tbody tr th:only-of-type {\n",
              "        vertical-align: middle;\n",
              "    }\n",
              "\n",
              "    .dataframe tbody tr th {\n",
              "        vertical-align: top;\n",
              "    }\n",
              "\n",
              "    .dataframe thead th {\n",
              "        text-align: right;\n",
              "    }\n",
              "</style>\n",
              "<table border=\"1\" class=\"dataframe\">\n",
              "  <thead>\n",
              "    <tr style=\"text-align: right;\">\n",
              "      <th></th>\n",
              "      <th>count</th>\n",
              "    </tr>\n",
              "    <tr>\n",
              "      <th>is_duplicate</th>\n",
              "      <th></th>\n",
              "    </tr>\n",
              "  </thead>\n",
              "  <tbody>\n",
              "    <tr>\n",
              "      <th>0</th>\n",
              "      <td>255027</td>\n",
              "    </tr>\n",
              "    <tr>\n",
              "      <th>1</th>\n",
              "      <td>149263</td>\n",
              "    </tr>\n",
              "  </tbody>\n",
              "</table>\n",
              "</div><br><label><b>dtype:</b> int64</label>"
            ]
          },
          "metadata": {},
          "execution_count": 13
        }
      ],
      "source": [
        "train_data[\"is_duplicate\"].value_counts()"
      ]
    },
    {
      "cell_type": "code",
      "execution_count": null,
      "metadata": {
        "colab": {
          "base_uri": "https://localhost:8080/",
          "height": 242
        },
        "id": "KtITE3XUVO-0",
        "outputId": "a2f74fb5-d0f5-457b-9280-03acd229c872"
      },
      "outputs": [
        {
          "data": {
            "image/png": "[encoded data removed]",
            "text/plain": [
              "<Figure size 600x400 with 1 Axes>"
            ]
          },
          "metadata": {},
          "output_type": "display_data"
        }
      ],
      "source": [
        "class_counts = train_data['is_duplicate'].value_counts()\n",
        "\n",
        "\n",
        "plt.figure(figsize=(6, 4))\n",
        "sns.barplot(x=class_counts.index, y=class_counts.values, palette='viridis')\n",
        "plt.title(\"Class Distribution (Is Duplicate)\")\n",
        "plt.xlabel(\"Class (0 = Not Duplicate, 1 = Duplicate)\")\n",
        "plt.ylabel(\"Number of Samples\")\n",
        "plt.show()"
      ]
    },
    {
      "cell_type": "code",
      "execution_count": null,
      "metadata": {
        "colab": {
          "base_uri": "https://localhost:8080/",
          "height": 178
        },
        "id": "FZ3V87VRf3bx",
        "outputId": "ca5f94f4-182b-42bc-cf44-aaf0e7bfd9fe"
      },
      "outputs": [
        {
          "output_type": "execute_result",
          "data": {
            "text/plain": [
              "is_duplicate\n",
              "0    140000\n",
              "1    140000\n",
              "Name: count, dtype: int64"
            ],
            "text/html": [
              "<div>\n",
              "<style scoped>\n",
              "    .dataframe tbody tr th:only-of-type {\n",
              "        vertical-align: middle;\n",
              "    }\n",
              "\n",
              "    .dataframe tbody tr th {\n",
              "        vertical-align: top;\n",
              "    }\n",
              "\n",
              "    .dataframe thead th {\n",
              "        text-align: right;\n",
              "    }\n",
              "</style>\n",
              "<table border=\"1\" class=\"dataframe\">\n",
              "  <thead>\n",
              "    <tr style=\"text-align: right;\">\n",
              "      <th></th>\n",
              "      <th>count</th>\n",
              "    </tr>\n",
              "    <tr>\n",
              "      <th>is_duplicate</th>\n",
              "      <th></th>\n",
              "    </tr>\n",
              "  </thead>\n",
              "  <tbody>\n",
              "    <tr>\n",
              "      <th>0</th>\n",
              "      <td>140000</td>\n",
              "    </tr>\n",
              "    <tr>\n",
              "      <th>1</th>\n",
              "      <td>140000</td>\n",
              "    </tr>\n",
              "  </tbody>\n",
              "</table>\n",
              "</div><br><label><b>dtype:</b> int64</label>"
            ]
          },
          "metadata": {},
          "execution_count": 14
        }
      ],
      "source": [
        "df_0 = train_data[train_data[\"is_duplicate\"] == 0]\n",
        "df_1 = train_data[train_data[\"is_duplicate\"] == 1]\n",
        "\n",
        "df_0 = df_0.head(140000)\n",
        "df_1 = df_1.head(140000)\n",
        "\n",
        "train_data = pd.concat([df_0, df_1])\n",
        "\n",
        "train_data[\"is_duplicate\"].value_counts()"
      ]
    },
    {
      "cell_type": "code",
      "execution_count": null,
      "metadata": {
        "colab": {
          "base_uri": "https://localhost:8080/",
          "height": 272
        },
        "id": "T8QrG26rZ_dI",
        "outputId": "31d42b37-dd1c-45d4-d8b6-63b6fa74d64f"
      },
      "outputs": [
        {
          "output_type": "execute_result",
          "data": {
            "text/plain": [
              "id              0\n",
              "qid1            0\n",
              "qid2            0\n",
              "question1       0\n",
              "question2       2\n",
              "is_duplicate    0\n",
              "dtype: int64"
            ],
            "text/html": [
              "<div>\n",
              "<style scoped>\n",
              "    .dataframe tbody tr th:only-of-type {\n",
              "        vertical-align: middle;\n",
              "    }\n",
              "\n",
              "    .dataframe tbody tr th {\n",
              "        vertical-align: top;\n",
              "    }\n",
              "\n",
              "    .dataframe thead th {\n",
              "        text-align: right;\n",
              "    }\n",
              "</style>\n",
              "<table border=\"1\" class=\"dataframe\">\n",
              "  <thead>\n",
              "    <tr style=\"text-align: right;\">\n",
              "      <th></th>\n",
              "      <th>0</th>\n",
              "    </tr>\n",
              "  </thead>\n",
              "  <tbody>\n",
              "    <tr>\n",
              "      <th>id</th>\n",
              "      <td>0</td>\n",
              "    </tr>\n",
              "    <tr>\n",
              "      <th>qid1</th>\n",
              "      <td>0</td>\n",
              "    </tr>\n",
              "    <tr>\n",
              "      <th>qid2</th>\n",
              "      <td>0</td>\n",
              "    </tr>\n",
              "    <tr>\n",
              "      <th>question1</th>\n",
              "      <td>0</td>\n",
              "    </tr>\n",
              "    <tr>\n",
              "      <th>question2</th>\n",
              "      <td>2</td>\n",
              "    </tr>\n",
              "    <tr>\n",
              "      <th>is_duplicate</th>\n",
              "      <td>0</td>\n",
              "    </tr>\n",
              "  </tbody>\n",
              "</table>\n",
              "</div><br><label><b>dtype:</b> int64</label>"
            ]
          },
          "metadata": {},
          "execution_count": 15
        }
      ],
      "source": [
        "train_data.isnull().sum()"
      ]
    },
    {
      "cell_type": "code",
      "execution_count": null,
      "metadata": {
        "id": "cG_b5w83adKW"
      },
      "outputs": [],
      "source": [
        "train_data.dropna(inplace=True)"
      ]
    },
    {
      "cell_type": "code",
      "execution_count": null,
      "metadata": {
        "colab": {
          "base_uri": "https://localhost:8080/"
        },
        "id": "QcqYTlkyr4tX",
        "outputId": "39b9f1c9-385d-4b36-b080-b7fdf584e3e9"
      },
      "outputs": [
        {
          "name": "stdout",
          "output_type": "stream",
          "text": [
            "Total len of words q1 623\n",
            "Total len of words q2 1169\n"
          ]
        }
      ],
      "source": [
        "print(f\"Total len of words q1 {train_data['question1'].str.len().max()}\")\n",
        "print(f\"Total len of words q2 {train_data['question2'].str.len().max()}\")"
      ]
    },
    {
      "cell_type": "code",
      "execution_count": null,
      "metadata": {
        "colab": {
          "base_uri": "https://localhost:8080/",
          "height": 189
        },
        "id": "4rfvEQq8VmFh",
        "outputId": "d8d9c7c9-3e70-4157-870e-b3419319559d"
      },
      "outputs": [
        {
          "data": {
            "image/png": "[encoded data removed]",
            "text/plain": [
              "<Figure size 1200x600 with 1 Axes>"
            ]
          },
          "metadata": {},
          "output_type": "display_data"
        }
      ],
      "source": [
        "train_data['q1_length'] = train_data['question1'].apply(len)\n",
        "train_data['q2_length'] = train_data['question2'].apply(len)\n",
        "\n",
        "# Plot distributions\n",
        "plt.figure(figsize=(12, 6))\n",
        "sns.histplot(train_data['q1_length'], label='Question 1 Length', color='blue', kde=True, bins=30)\n",
        "sns.histplot(train_data['q2_length'], label='Question 2 Length', color='green', kde=True, bins=30)\n",
        "plt.title(\"Distribution of Question Lengths\")\n",
        "plt.xlabel(\"Length of Questions\")\n",
        "plt.ylabel(\"Frequency\")\n",
        "plt.legend()\n",
        "plt.show()"
      ]
    },
    {
      "cell_type": "code",
      "execution_count": null,
      "metadata": {
        "colab": {
          "base_uri": "https://localhost:8080/"
        },
        "id": "3NggOK5WsrgM",
        "outputId": "9e8c7dce-2b95-4016-ea0b-b88d2a05f265"
      },
      "outputs": [
        {
          "output_type": "execute_result",
          "data": {
            "text/plain": [
              "Index([  4326,  18055,  51947,  75727,  94476, 118582, 130781, 131653, 153442,\n",
              "       166715, 190838, 199362],\n",
              "      dtype='int64')"
            ]
          },
          "metadata": {},
          "execution_count": 17
        }
      ],
      "source": [
        "train_data[train_data[\"question2\"].str.len() > 650].index"
      ]
    },
    {
      "cell_type": "code",
      "execution_count": null,
      "metadata": {
        "colab": {
          "base_uri": "https://localhost:8080/"
        },
        "id": "T9Z0YALkuoo1",
        "outputId": "33c5da88-10b2-46a9-c2d9-39c8777dbdd5"
      },
      "outputs": [
        {
          "output_type": "execute_result",
          "data": {
            "text/plain": [
              "(279986, 6)"
            ]
          },
          "metadata": {},
          "execution_count": 18
        }
      ],
      "source": [
        "train_data = train_data.drop(index = [4326, 18055, 51947, 75727, 94476, 118582, 130781, 131653, 153442, 166715, 190838, 199362])\n",
        "train_data.shape"
      ]
    },
    {
      "cell_type": "markdown",
      "source": [
        "**Clean Data**"
      ],
      "metadata": {
        "id": "bCXqRaPUzwiJ"
      }
    },
    {
      "cell_type": "code",
      "execution_count": null,
      "metadata": {
        "id": "yaMNeTXucsir"
      },
      "outputs": [],
      "source": [
        "def clean_text(text):\n",
        "    text = str(text)\n",
        "    text = re.sub(r'\\[.*?\\]', '', text)\n",
        "    text = re.sub(r'http\\S+', '', text)\n",
        "    text = re.sub(r'[^\\w\\s]', '', text)\n",
        "    text = text.lower()\n",
        "    text = text.strip()\n",
        "    return text\n",
        "\n",
        "train_data['question1'] = train_data['question1'].apply(clean_text)\n",
        "train_data['question2'] = train_data['question2'].apply(clean_text)"
      ]
    },
    {
      "cell_type": "code",
      "execution_count": null,
      "metadata": {
        "colab": {
          "base_uri": "https://localhost:8080/",
          "height": 764
        },
        "id": "PBY6hRcEdpg9",
        "outputId": "c3a9cbfc-b79f-434c-e54e-12df46d49721"
      },
      "outputs": [
        {
          "data": {
            "application/vnd.google.colaboratory.intrinsic+json": {
              "type": "dataframe",
              "variable_name": "train_data"
            },
            "text/html": [
              "\n",
              "  <div id=\"df-3b09885d-f863-4758-9a03-2138df76bc21\" class=\"colab-df-container\">\n",
              "    <div>\n",
              "<style scoped>\n",
              "    .dataframe tbody tr th:only-of-type {\n",
              "        vertical-align: middle;\n",
              "    }\n",
              "\n",
              "    .dataframe tbody tr th {\n",
              "        vertical-align: top;\n",
              "    }\n",
              "\n",
              "    .dataframe thead th {\n",
              "        text-align: right;\n",
              "    }\n",
              "</style>\n",
              "<table border=\"1\" class=\"dataframe\">\n",
              "  <thead>\n",
              "    <tr style=\"text-align: right;\">\n",
              "      <th></th>\n",
              "      <th>id</th>\n",
              "      <th>qid1</th>\n",
              "      <th>qid2</th>\n",
              "      <th>question1</th>\n",
              "      <th>question2</th>\n",
              "      <th>is_duplicate</th>\n",
              "      <th>q1_length</th>\n",
              "      <th>q2_length</th>\n",
              "    </tr>\n",
              "  </thead>\n",
              "  <tbody>\n",
              "    <tr>\n",
              "      <th>0</th>\n",
              "      <td>0</td>\n",
              "      <td>1</td>\n",
              "      <td>2</td>\n",
              "      <td>what is the step by step guide to invest in share market in india</td>\n",
              "      <td>what is the step by step guide to invest in share market</td>\n",
              "      <td>0</td>\n",
              "      <td>66</td>\n",
              "      <td>57</td>\n",
              "    </tr>\n",
              "    <tr>\n",
              "      <th>1</th>\n",
              "      <td>1</td>\n",
              "      <td>3</td>\n",
              "      <td>4</td>\n",
              "      <td>what is the story of kohinoor kohinoor diamond</td>\n",
              "      <td>what would happen if the indian government stole the kohinoor kohinoor diamond back</td>\n",
              "      <td>0</td>\n",
              "      <td>51</td>\n",
              "      <td>88</td>\n",
              "    </tr>\n",
              "    <tr>\n",
              "      <th>2</th>\n",
              "      <td>2</td>\n",
              "      <td>5</td>\n",
              "      <td>6</td>\n",
              "      <td>how can i increase the speed of my internet connection while using a vpn</td>\n",
              "      <td>how can internet speed be increased by hacking through dns</td>\n",
              "      <td>0</td>\n",
              "      <td>73</td>\n",
              "      <td>59</td>\n",
              "    </tr>\n",
              "    <tr>\n",
              "      <th>3</th>\n",
              "      <td>3</td>\n",
              "      <td>7</td>\n",
              "      <td>8</td>\n",
              "      <td>why am i mentally very lonely how can i solve it</td>\n",
              "      <td>find the remainder when 2324 is divided by 2423</td>\n",
              "      <td>0</td>\n",
              "      <td>50</td>\n",
              "      <td>65</td>\n",
              "    </tr>\n",
              "    <tr>\n",
              "      <th>4</th>\n",
              "      <td>4</td>\n",
              "      <td>9</td>\n",
              "      <td>10</td>\n",
              "      <td>which one dissolve in water quikly sugar salt methane and carbon di oxide</td>\n",
              "      <td>which fish would survive in salt water</td>\n",
              "      <td>0</td>\n",
              "      <td>76</td>\n",
              "      <td>39</td>\n",
              "    </tr>\n",
              "  </tbody>\n",
              "</table>\n",
              "</div>\n",
              "    <div class=\"colab-df-buttons\">\n",
              "\n",
              "  <div class=\"colab-df-container\">\n",
              "    <button class=\"colab-df-convert\" onclick=\"convertToInteractive('df-3b09885d-f863-4758-9a03-2138df76bc21')\"\n",
              "            title=\"Convert this dataframe to an interactive table.\"\n",
              "            style=\"display:none;\">\n",
              "\n",
              "  <svg xmlns=\"http://www.w3.org/2000/svg\" height=\"24px\" viewBox=\"0 -960 960 960\">\n",
              "    <path d=\"M120-120v-720h720v720H120Zm60-500h600v-160H180v160Zm220 220h160v-160H400v160Zm0 220h160v-160H400v160ZM180-400h160v-160H180v160Zm440 0h160v-160H620v160ZM180-180h160v-160H180v160Zm440 0h160v-160H620v160Z\"/>\n",
              "  </svg>\n",
              "    </button>\n",
              "\n",
              "  <style>\n",
              "    .colab-df-container {\n",
              "      display:flex;\n",
              "      gap: 12px;\n",
              "    }\n",
              "\n",
              "    .colab-df-convert {\n",
              "      background-color: #E8F0FE;\n",
              "      border: none;\n",
              "      border-radius: 50%;\n",
              "      cursor: pointer;\n",
              "      display: none;\n",
              "      fill: #1967D2;\n",
              "      height: 32px;\n",
              "      padding: 0 0 0 0;\n",
              "      width: 32px;\n",
              "    }\n",
              "\n",
              "    .colab-df-convert:hover {\n",
              "      background-color: #E2EBFA;\n",
              "      box-shadow: 0px 1px 2px rgba(60, 64, 67, 0.3), 0px 1px 3px 1px rgba(60, 64, 67, 0.15);\n",
              "      fill: #174EA6;\n",
              "    }\n",
              "\n",
              "    .colab-df-buttons div {\n",
              "      margin-bottom: 4px;\n",
              "    }\n",
              "\n",
              "    [theme=dark] .colab-df-convert {\n",
              "      background-color: #3B4455;\n",
              "      fill: #D2E3FC;\n",
              "    }\n",
              "\n",
              "    [theme=dark] .colab-df-convert:hover {\n",
              "      background-color: #434B5C;\n",
              "      box-shadow: 0px 1px 3px 1px rgba(0, 0, 0, 0.15);\n",
              "      filter: drop-shadow(0px 1px 2px rgba(0, 0, 0, 0.3));\n",
              "      fill: #FFFFFF;\n",
              "    }\n",
              "  </style>\n",
              "\n",
              "    <script>\n",
              "      const buttonEl =\n",
              "        document.querySelector('#df-3b09885d-f863-4758-9a03-2138df76bc21 button.colab-df-convert');\n",
              "      buttonEl.style.display =\n",
              "        google.colab.kernel.accessAllowed ? 'block' : 'none';\n",
              "\n",
              "      async function convertToInteractive(key) {\n",
              "        const element = document.querySelector('#df-3b09885d-f863-4758-9a03-2138df76bc21');\n",
              "        const dataTable =\n",
              "          await google.colab.kernel.invokeFunction('convertToInteractive',\n",
              "                                                    [key], {});\n",
              "        if (!dataTable) return;\n",
              "\n",
              "        const docLinkHtml = 'Like what you see? Visit the ' +\n",
              "          '<a target=\"_blank\" href=https://colab.research.google.com/notebooks/data_table.ipynb>data table notebook</a>'\n",
              "          + ' to learn more about interactive tables.';\n",
              "        element.innerHTML = '';\n",
              "        dataTable['output_type'] = 'display_data';\n",
              "        await google.colab.output.renderOutput(dataTable, element);\n",
              "        const docLink = document.createElement('div');\n",
              "        docLink.innerHTML = docLinkHtml;\n",
              "        element.appendChild(docLink);\n",
              "      }\n",
              "    </script>\n",
              "  </div>\n",
              "\n",
              "\n",
              "<div id=\"df-bae44685-5942-43be-95de-ab3bbba71dd3\">\n",
              "  <button class=\"colab-df-quickchart\" onclick=\"quickchart('df-bae44685-5942-43be-95de-ab3bbba71dd3')\"\n",
              "            title=\"Suggest charts\"\n",
              "            style=\"display:none;\">\n",
              "\n",
              "<svg xmlns=\"http://www.w3.org/2000/svg\" height=\"24px\"viewBox=\"0 0 24 24\"\n",
              "     width=\"24px\">\n",
              "    <g>\n",
              "        <path d=\"M19 3H5c-1.1 0-2 .9-2 2v14c0 1.1.9 2 2 2h14c1.1 0 2-.9 2-2V5c0-1.1-.9-2-2-2zM9 17H7v-7h2v7zm4 0h-2V7h2v10zm4 0h-2v-4h2v4z\"/>\n",
              "    </g>\n",
              "</svg>\n",
              "  </button>\n",
              "\n",
              "<style>\n",
              "  .colab-df-quickchart {\n",
              "      --bg-color: #E8F0FE;\n",
              "      --fill-color: #1967D2;\n",
              "      --hover-bg-color: #E2EBFA;\n",
              "      --hover-fill-color: #174EA6;\n",
              "      --disabled-fill-color: #AAA;\n",
              "      --disabled-bg-color: #DDD;\n",
              "  }\n",
              "\n",
              "  [theme=dark] .colab-df-quickchart {\n",
              "      --bg-color: #3B4455;\n",
              "      --fill-color: #D2E3FC;\n",
              "      --hover-bg-color: #434B5C;\n",
              "      --hover-fill-color: #FFFFFF;\n",
              "      --disabled-bg-color: #3B4455;\n",
              "      --disabled-fill-color: #666;\n",
              "  }\n",
              "\n",
              "  .colab-df-quickchart {\n",
              "    background-color: var(--bg-color);\n",
              "    border: none;\n",
              "    border-radius: 50%;\n",
              "    cursor: pointer;\n",
              "    display: none;\n",
              "    fill: var(--fill-color);\n",
              "    height: 32px;\n",
              "    padding: 0;\n",
              "    width: 32px;\n",
              "  }\n",
              "\n",
              "  .colab-df-quickchart:hover {\n",
              "    background-color: var(--hover-bg-color);\n",
              "    box-shadow: 0 1px 2px rgba(60, 64, 67, 0.3), 0 1px 3px 1px rgba(60, 64, 67, 0.15);\n",
              "    fill: var(--button-hover-fill-color);\n",
              "  }\n",
              "\n",
              "  .colab-df-quickchart-complete:disabled,\n",
              "  .colab-df-quickchart-complete:disabled:hover {\n",
              "    background-color: var(--disabled-bg-color);\n",
              "    fill: var(--disabled-fill-color);\n",
              "    box-shadow: none;\n",
              "  }\n",
              "\n",
              "  .colab-df-spinner {\n",
              "    border: 2px solid var(--fill-color);\n",
              "    border-color: transparent;\n",
              "    border-bottom-color: var(--fill-color);\n",
              "    animation:\n",
              "      spin 1s steps(1) infinite;\n",
              "  }\n",
              "\n",
              "  @keyframes spin {\n",
              "    0% {\n",
              "      border-color: transparent;\n",
              "      border-bottom-color: var(--fill-color);\n",
              "      border-left-color: var(--fill-color);\n",
              "    }\n",
              "    20% {\n",
              "      border-color: transparent;\n",
              "      border-left-color: var(--fill-color);\n",
              "      border-top-color: var(--fill-color);\n",
              "    }\n",
              "    30% {\n",
              "      border-color: transparent;\n",
              "      border-left-color: var(--fill-color);\n",
              "      border-top-color: var(--fill-color);\n",
              "      border-right-color: var(--fill-color);\n",
              "    }\n",
              "    40% {\n",
              "      border-color: transparent;\n",
              "      border-right-color: var(--fill-color);\n",
              "      border-top-color: var(--fill-color);\n",
              "    }\n",
              "    60% {\n",
              "      border-color: transparent;\n",
              "      border-right-color: var(--fill-color);\n",
              "    }\n",
              "    80% {\n",
              "      border-color: transparent;\n",
              "      border-right-color: var(--fill-color);\n",
              "      border-bottom-color: var(--fill-color);\n",
              "    }\n",
              "    90% {\n",
              "      border-color: transparent;\n",
              "      border-bottom-color: var(--fill-color);\n",
              "    }\n",
              "  }\n",
              "</style>\n",
              "\n",
              "  <script>\n",
              "    async function quickchart(key) {\n",
              "      const quickchartButtonEl =\n",
              "        document.querySelector('#' + key + ' button');\n",
              "      quickchartButtonEl.disabled = true;  // To prevent multiple clicks.\n",
              "      quickchartButtonEl.classList.add('colab-df-spinner');\n",
              "      try {\n",
              "        const charts = await google.colab.kernel.invokeFunction(\n",
              "            'suggestCharts', [key], {});\n",
              "      } catch (error) {\n",
              "        console.error('Error during call to suggestCharts:', error);\n",
              "      }\n",
              "      quickchartButtonEl.classList.remove('colab-df-spinner');\n",
              "      quickchartButtonEl.classList.add('colab-df-quickchart-complete');\n",
              "    }\n",
              "    (() => {\n",
              "      let quickchartButtonEl =\n",
              "        document.querySelector('#df-bae44685-5942-43be-95de-ab3bbba71dd3 button');\n",
              "      quickchartButtonEl.style.display =\n",
              "        google.colab.kernel.accessAllowed ? 'block' : 'none';\n",
              "    })();\n",
              "  </script>\n",
              "</div>\n",
              "\n",
              "    </div>\n",
              "  </div>\n"
            ],
            "text/plain": [
              "   id  qid1  qid2  \\\n",
              "0   0     1     2   \n",
              "1   1     3     4   \n",
              "2   2     5     6   \n",
              "3   3     7     8   \n",
              "4   4     9    10   \n",
              "\n",
              "                                                                   question1  \\\n",
              "0          what is the step by step guide to invest in share market in india   \n",
              "1                             what is the story of kohinoor kohinoor diamond   \n",
              "2   how can i increase the speed of my internet connection while using a vpn   \n",
              "3                           why am i mentally very lonely how can i solve it   \n",
              "4  which one dissolve in water quikly sugar salt methane and carbon di oxide   \n",
              "\n",
              "                                                                             question2  \\\n",
              "0                             what is the step by step guide to invest in share market   \n",
              "1  what would happen if the indian government stole the kohinoor kohinoor diamond back   \n",
              "2                           how can internet speed be increased by hacking through dns   \n",
              "3                                      find the remainder when 2324 is divided by 2423   \n",
              "4                                               which fish would survive in salt water   \n",
              "\n",
              "   is_duplicate  q1_length  q2_length  \n",
              "0             0         66         57  \n",
              "1             0         51         88  \n",
              "2             0         73         59  \n",
              "3             0         50         65  \n",
              "4             0         76         39  "
            ]
          },
          "execution_count": 15,
          "metadata": {},
          "output_type": "execute_result"
        }
      ],
      "source": [
        "train_data.head()"
      ]
    },
    {
      "cell_type": "markdown",
      "metadata": {
        "id": "ioCon_KLWiLg"
      },
      "source": [
        "## **Convert Data to Vector**"
      ]
    },
    {
      "cell_type": "code",
      "execution_count": null,
      "metadata": {
        "id": "RHFRPXSLeANI"
      },
      "outputs": [],
      "source": [
        "questions = pd.concat([train_data[\"question1\"], train_data[\"question2\"]])\n",
        "questions = questions.drop_duplicates().reset_index(drop=True)"
      ]
    },
    {
      "cell_type": "code",
      "execution_count": null,
      "metadata": {
        "id": "6uBwHk7LetuP"
      },
      "outputs": [],
      "source": [
        "X = train_data[[\"question1\", \"question2\"]]\n",
        "y = train_data[\"is_duplicate\"]\n",
        "\n",
        "X_train, X_test, y_train, y_test = train_test_split(X, y, test_size=0.2, random_state = 42)"
      ]
    },
    {
      "cell_type": "code",
      "execution_count": null,
      "metadata": {
        "id": "uUZ1sWSfjXmo"
      },
      "outputs": [],
      "source": [
        "tfidf = TfidfVectorizer(max_features = 650)\n",
        "\n",
        "tfidf.fit(questions)\n",
        "\n",
        "X_train_q1 = tfidf.transform(X_train['question1'])\n",
        "X_train_q2 = tfidf.transform(X_train['question2'])\n",
        "X_test_q1 = tfidf.transform(X_test['question1'])\n",
        "X_test_q2 = tfidf.transform(X_test['question2'])"
      ]
    },
    {
      "cell_type": "code",
      "execution_count": null,
      "metadata": {
        "colab": {
          "base_uri": "https://localhost:8080/",
          "height": 231
        },
        "id": "1y86YtHiWiV5",
        "outputId": "b856bfe8-aa60-46e6-c02a-54e08fd7e469"
      },
      "outputs": [
        {
          "data": {
            "image/png": "[encoded data removed]",
            "text/plain": [
              "<Figure size 800x500 with 1 Axes>"
            ]
          },
          "metadata": {},
          "output_type": "display_data"
        }
      ],
      "source": [
        "from sklearn.metrics.pairwise import cosine_similarity\n",
        "\n",
        "# Calculate cosine similarity between questions\n",
        "tfidf_q1 = tfidf.transform(train_data['question1'])\n",
        "tfidf_q2 = tfidf.transform(train_data['question2'])\n",
        "\n",
        "cosine_sim = [cosine_similarity(q1, q2)[0][0] for q1, q2 in zip(tfidf_q1, tfidf_q2)]\n",
        "\n",
        "# Add cosine similarity to the dataset\n",
        "train_data['cosine_similarity'] = cosine_sim\n",
        "\n",
        "# Plot cosine similarity distribution\n",
        "plt.figure(figsize=(8, 5))\n",
        "sns.histplot(train_data['cosine_similarity'], bins=30, kde=True, color='purple')\n",
        "plt.title(\"Distribution of Cosine Similarity Between Questions\")\n",
        "plt.xlabel(\"Cosine Similarity\")\n",
        "plt.ylabel(\"Frequency\")\n",
        "plt.show()"
      ]
    },
    {
      "cell_type": "markdown",
      "source": [
        "## **Build Model Pipeline**"
      ],
      "metadata": {
        "id": "u3L-QcV-0Pik"
      }
    },
    {
      "cell_type": "code",
      "execution_count": null,
      "metadata": {
        "id": "H6GL_gB7q7xg"
      },
      "outputs": [],
      "source": [
        "# Combine the features for both questions\n",
        "X_train_combined = np.hstack((X_train_q1.toarray(), X_train_q2.toarray()))\n",
        "X_test_combined = np.hstack((X_test_q1.toarray(), X_test_q2.toarray()))"
      ]
    },
    {
      "cell_type": "code",
      "execution_count": null,
      "metadata": {
        "colab": {
          "base_uri": "https://localhost:8080/"
        },
        "id": "WHsRpj7bdQOZ",
        "outputId": "c48dfce5-d31b-47f7-ea60-7f495c2b8464"
      },
      "outputs": [
        {
          "name": "stdout",
          "output_type": "stream",
          "text": [
            "Evaluating: Logistic Regression\n",
            "Evaluating: Random Forest\n",
            "Evaluating: Naive Bayes\n",
            "Evaluating: K-Nearest Neighbors\n",
            "\n",
            "Model Accuracy Comparison:\n",
            "Logistic Regression: 0.67\n",
            "Random Forest: 0.77\n",
            "Naive Bayes: 0.64\n",
            "K-Nearest Neighbors: 0.72\n"
          ]
        }
      ],
      "source": [
        "from sklearn.pipeline import Pipeline\n",
        "from sklearn.ensemble import RandomForestClassifier\n",
        "from sklearn.linear_model import LogisticRegression\n",
        "from sklearn.svm import SVC\n",
        "from sklearn.naive_bayes import GaussianNB\n",
        "from sklearn.neighbors import KNeighborsClassifier\n",
        "from sklearn.metrics import accuracy_score\n",
        "\n",
        "\n",
        "models = {\n",
        "    \"Logistic Regression\": LogisticRegression(max_iter=1000),\n",
        "    \"Random Forest\": RandomForestClassifier(n_estimators=100, random_state=42),\n",
        "    #\"Support Vector Machine\": SVC(kernel='linear', probability=True),\n",
        "    \"Naive Bayes\": GaussianNB(),\n",
        "    \"K-Nearest Neighbors\": KNeighborsClassifier(n_neighbors=5)\n",
        "}\n",
        "\n",
        "\n",
        "results = {}\n",
        "for model_name, model in models.items():\n",
        "    print(f\"Evaluating: {model_name}\")\n",
        "\n",
        "    pipeline = Pipeline([\n",
        "        ('model', model)\n",
        "    ])\n",
        "\n",
        "    if model_name == \"Naive Bayes\":\n",
        "        pipeline.fit(X_train_combined, y_train)\n",
        "        y_pred = pipeline.predict(X_test_combined)\n",
        "    else:\n",
        "        pipeline.fit(X_train_combined, y_train)\n",
        "        y_pred = pipeline.predict(X_test_combined)\n",
        "\n",
        "    accuracy = accuracy_score(y_test, y_pred)\n",
        "    results[model_name] = accuracy\n",
        "\n",
        "print(\"\\nModel Accuracy Comparison:\")\n",
        "for model_name, accuracy in results.items():\n",
        "    print(f\"{model_name}: {accuracy:.2f}\")"
      ]
    },
    {
      "cell_type": "code",
      "execution_count": null,
      "metadata": {
        "colab": {
          "base_uri": "https://localhost:8080/"
        },
        "id": "G_C1IS0T9HMq",
        "outputId": "3f09eaf1-8d40-48aa-e740-cebce8d6d1f0"
      },
      "outputs": [
        {
          "name": "stdout",
          "output_type": "stream",
          "text": [
            "Logistic Regression saved as logistic_regression_model.pkl\n",
            "Random Forest saved as random_forest_model.pkl\n",
            "Naive Bayes saved as naive_bayes_model.pkl\n",
            "K-Nearest Neighbors saved as k-nearest_neighbors_model.pkl\n"
          ]
        }
      ],
      "source": [
        "import pickle\n",
        "\n",
        "for model_name, model in models.items():\n",
        "    file_name = f\"{model_name.replace(' ', '_').lower()}_model.pkl\"\n",
        "    with open(file_name, 'wb') as file:\n",
        "        pickle.dump(model, file)\n",
        "        print(f\"{model_name} saved as {file_name}\")"
      ]
    },
    {
      "cell_type": "markdown",
      "metadata": {
        "id": "edrYvK0b28Zx"
      },
      "source": [
        "## **Build Tensorflow Model using Glove**\n",
        "\n",
        "Build tf model to check model accuracy improve or not..."
      ]
    },
    {
      "cell_type": "code",
      "execution_count": null,
      "metadata": {
        "colab": {
          "base_uri": "https://localhost:8080/"
        },
        "id": "7pzKd2YkIXqk",
        "outputId": "370a29bd-e0ad-4288-8c6e-6ca707329c71"
      },
      "outputs": [
        {
          "output_type": "stream",
          "name": "stdout",
          "text": [
            "--2025-01-11 13:47:52--  https://downloads.cs.stanford.edu/nlp/data/glove.6B.zip\n",
            "Resolving downloads.cs.stanford.edu (downloads.cs.stanford.edu)... 171.64.64.22\n",
            "Connecting to downloads.cs.stanford.edu (downloads.cs.stanford.edu)|171.64.64.22|:443... connected.\n",
            "HTTP request sent, awaiting response... 200 OK\n",
            "Length: 862182613 (822M) [application/zip]\n",
            "Saving to: ‘glove.6B.zip’\n",
            "\n",
            "glove.6B.zip        100%[===================>] 822.24M  4.95MB/s    in 2m 42s  \n",
            "\n",
            "2025-01-11 13:50:35 (5.09 MB/s) - ‘glove.6B.zip’ saved [862182613/862182613]\n",
            "\n"
          ]
        }
      ],
      "source": [
        "!wget https://downloads.cs.stanford.edu/nlp/data/glove.6B.zip\n",
        "!unzip -q glove.6B.zip"
      ]
    },
    {
      "cell_type": "code",
      "execution_count": null,
      "metadata": {
        "id": "w0D6sWXMHKX9",
        "colab": {
          "base_uri": "https://localhost:8080/"
        },
        "outputId": "bc6ad6a7-feee-44e9-8eb4-2c8700efc73f"
      },
      "outputs": [
        {
          "output_type": "stream",
          "name": "stdout",
          "text": [
            "[ 0.0033901 -0.34614    0.28144    0.48382    0.59469    0.012965\n",
            "  0.53982    0.48233    0.21463   -1.0249    -0.34788   -0.79001\n",
            " -0.15084    0.61374    0.042811   0.19323    0.25462    0.32528\n",
            "  0.05698    0.063253  -0.49439    0.47337   -0.16761    0.045594\n",
            "  0.30451   -0.35416   -0.34583   -0.20118    0.25511    0.091111\n",
            "  0.014651  -0.017541  -0.23854    0.48215   -0.9145    -0.36235\n",
            "  0.34736    0.028639  -0.027065  -0.036481  -0.067391  -0.23452\n",
            " -0.13772    0.33951    0.13415   -0.1342     0.47856   -0.1842\n",
            "  0.10705   -0.45834   -0.36085   -0.22595    0.32881   -0.13643\n",
            "  0.23128    0.34269    0.42344    0.47057    0.479      0.074639\n",
            "  0.3344     0.10714   -0.13289    0.58734    0.38616   -0.52238\n",
            " -0.22028   -0.072322   0.32269    0.44226   -0.037382   0.18324\n",
            "  0.058082   0.26938    0.36202    0.13983    0.016815  -0.34426\n",
            "  0.4827     0.2108     0.75618   -0.13092   -0.025741   0.43391\n",
            "  0.33893   -0.16438    0.26817    0.68774    0.311     -0.2509\n",
            "  0.0027749 -0.39809   -0.43399    0.049531  -0.42686   -0.094679\n",
            "  0.56925    0.28742   -0.015721  -0.059162   0.1912    -0.59814\n",
            "  0.65486   -0.31363    0.16881    0.10862    0.075316   0.34093\n",
            " -0.14706    0.8359     0.39697    0.52358   -0.0096367 -0.14406\n",
            "  0.37783   -0.596     -0.063192  -0.85297   -0.3098    -1.0587\n",
            " -1.025      0.4508    -0.73324   -1.2461    -0.028488   0.20299\n",
            "  0.00259    0.31995    0.35744    0.28533    0.228      0.50956\n",
            " -0.35942    0.32683    0.046264  -0.86896   -0.2707    -0.15454\n",
            " -0.32152    0.31121    0.44134    0.85189    0.21065   -0.13741\n",
            " -0.15359   -0.059722   0.027375   0.23724   -0.39197   -0.66065\n",
            "  0.23587    0.032384  -0.64043    0.55004    0.29597    0.14989\n",
            "  0.46079   -0.26561   -0.1607    -0.36328    1.0782     0.31375\n",
            "  0.1149     0.20248    0.032748   0.41082   -0.082536   0.36606\n",
            "  0.18771    0.75415    0.079648   0.24181   -0.60319   -0.37296\n",
            " -0.047767   0.45008   -0.21135    0.022251  -0.084325   0.18644\n",
            " -0.14682    0.56571   -0.30995    0.17423   -0.41122   -0.84772\n",
            " -0.71114    0.69895   -0.13008   -0.34195   -0.30501   -0.12646\n",
            "  0.29957   -0.43488    0.31935    0.2817    -0.20631   -0.48877\n",
            "  0.34477    0.03907    1.6198    -0.6352    -0.0037675 -0.41271\n",
            "  0.30704   -0.50486    0.036385  -0.046386  -0.12004    0.010029\n",
            " -0.49116    0.041486   0.002979  -0.57694   -0.42088   -0.063218\n",
            "  0.0034244 -0.25093   -0.39689   -0.36984    0.32689    0.01385\n",
            "  0.23634   -0.055199  -0.58453    0.13211    0.50943    0.25198\n",
            " -0.0088309 -0.21273   -0.48423    0.5234    -0.32832   -0.013821\n",
            "  0.15812    0.46696    0.036822  -0.090878   0.18854    0.20794\n",
            " -0.42682    0.59705    0.53109    0.19185   -0.16392    0.064956\n",
            " -0.36009   -0.59882   -0.28134    0.1017     0.02601    0.44298\n",
            " -0.31922   -0.22432    0.7828     0.041307   0.1742     0.27777\n",
            "  0.43792   -0.84324    0.27012   -0.21547    0.52408   -0.19426\n",
            " -0.21878   -0.20713    0.092994  -0.15804    0.28716   -0.11911\n",
            " -0.20688   -0.36482    0.68548   -0.10394   -0.49974   -0.47038\n",
            " -1.2953    -0.46236    0.44467    0.13337    0.88762   -0.26494\n",
            "  0.080676  -0.20625   -0.51232    0.31112    0.062035   0.30302\n",
            " -0.33344   -0.20924   -0.17348   -0.43434   -0.45743   -0.077803\n",
            " -0.33248   -0.078633   0.82182    0.082088  -0.68795    0.30266  ]\n"
          ]
        }
      ],
      "source": [
        "from gensim.models.keyedvectors import KeyedVectors\n",
        "\n",
        "def load_glove_model(glove_file_path):\n",
        "    word_vectors = {}\n",
        "    with open(glove_file_path, 'r', encoding='utf-8') as f:\n",
        "        for line in f:\n",
        "            values = line.split()\n",
        "            word = values[0]\n",
        "            vector = np.asarray(values[1:], dtype='float32')\n",
        "            word_vectors[word] = vector\n",
        "    return word_vectors\n",
        "\n",
        "glove_file_path = \"/content/glove.6B.300d.txt\"\n",
        "glove_model = load_glove_model(glove_file_path)\n",
        "\n",
        "print(glove_model.get('king'))"
      ]
    },
    {
      "cell_type": "code",
      "execution_count": null,
      "metadata": {
        "colab": {
          "base_uri": "https://localhost:8080/"
        },
        "id": "3Apmc5YoMYAd",
        "outputId": "264ef5e7-5627-48c4-d9d6-c86d3e366e84"
      },
      "outputs": [
        {
          "output_type": "stream",
          "name": "stderr",
          "text": [
            "[nltk_data] Downloading package punkt_tab to /root/nltk_data...\n",
            "[nltk_data]   Package punkt_tab is already up-to-date!\n"
          ]
        }
      ],
      "source": [
        "import nltk\n",
        "from nltk.tokenize import word_tokenize\n",
        "nltk.download('punkt_tab')\n",
        "\n",
        "def get_glove_embeddings(question, glove_model):\n",
        "    words = word_tokenize(question.lower())\n",
        "    vectors = []\n",
        "\n",
        "    for word in words:\n",
        "        if word in glove_model:\n",
        "            vectors.append(glove_model[word])\n",
        "\n",
        "\n",
        "    if len(vectors) == 0:\n",
        "        return np.zeros(300)\n",
        "\n",
        "    return np.mean(vectors, axis=0)"
      ]
    },
    {
      "cell_type": "code",
      "execution_count": null,
      "metadata": {
        "id": "P4WS_fZSMbMd"
      },
      "outputs": [],
      "source": [
        "X_train_glove = np.array([get_glove_embeddings(q, glove_model) for q in X_train['question1']])\n",
        "X_test_glove = np.array([get_glove_embeddings(q, glove_model) for q in X_test['question1']])\n",
        "\n",
        "X_train_glove_q2 = np.array([get_glove_embeddings(q, glove_model) for q in X_train['question2']])\n",
        "X_test_glove_q2 = np.array([get_glove_embeddings(q, glove_model) for q in X_test['question2']])\n",
        "\n",
        "X_train_combined_glove = np.hstack((X_train_glove, X_train_glove_q2))\n",
        "X_test_combined_glove = np.hstack((X_test_glove, X_test_glove_q2))"
      ]
    },
    {
      "cell_type": "code",
      "execution_count": null,
      "metadata": {
        "id": "Ka6Lkor7o_72",
        "colab": {
          "base_uri": "https://localhost:8080/"
        },
        "outputId": "dc46413f-eb62-4831-e660-d094a705328a"
      },
      "outputs": [
        {
          "output_type": "stream",
          "name": "stdout",
          "text": [
            "Epoch 1/200\n",
            "\u001b[1m3500/3500\u001b[0m \u001b[32m━━━━━━━━━━━━━━━━━━━━\u001b[0m\u001b[37m\u001b[0m \u001b[1m24s\u001b[0m 5ms/step - accuracy: 0.6214 - loss: 1.1679 - val_accuracy: 0.6788 - val_loss: 0.6814 - learning_rate: 0.0010\n",
            "Epoch 2/200\n",
            "\u001b[1m3500/3500\u001b[0m \u001b[32m━━━━━━━━━━━━━━━━━━━━\u001b[0m\u001b[37m\u001b[0m \u001b[1m30s\u001b[0m 3ms/step - accuracy: 0.6784 - loss: 0.6686 - val_accuracy: 0.6286 - val_loss: 0.7191 - learning_rate: 0.0010\n",
            "Epoch 3/200\n",
            "\u001b[1m3500/3500\u001b[0m \u001b[32m━━━━━━━━━━━━━━━━━━━━\u001b[0m\u001b[37m\u001b[0m \u001b[1m13s\u001b[0m 3ms/step - accuracy: 0.6871 - loss: 0.6589 - val_accuracy: 0.6846 - val_loss: 0.6406 - learning_rate: 0.0010\n",
            "Epoch 4/200\n",
            "\u001b[1m3500/3500\u001b[0m \u001b[32m━━━━━━━━━━━━━━━━━━━━\u001b[0m\u001b[37m\u001b[0m \u001b[1m10s\u001b[0m 3ms/step - accuracy: 0.6817 - loss: 0.6558 - val_accuracy: 0.6995 - val_loss: 0.6288 - learning_rate: 0.0010\n",
            "Epoch 5/200\n",
            "\u001b[1m3500/3500\u001b[0m \u001b[32m━━━━━━━━━━━━━━━━━━━━\u001b[0m\u001b[37m\u001b[0m \u001b[1m12s\u001b[0m 3ms/step - accuracy: 0.6851 - loss: 0.6522 - val_accuracy: 0.6885 - val_loss: 0.6319 - learning_rate: 0.0010\n",
            "Epoch 6/200\n",
            "\u001b[1m3500/3500\u001b[0m \u001b[32m━━━━━━━━━━━━━━━━━━━━\u001b[0m\u001b[37m\u001b[0m \u001b[1m10s\u001b[0m 3ms/step - accuracy: 0.6829 - loss: 0.6518 - val_accuracy: 0.6986 - val_loss: 0.6261 - learning_rate: 0.0010\n",
            "Epoch 7/200\n",
            "\u001b[1m3500/3500\u001b[0m \u001b[32m━━━━━━━━━━━━━━━━━━━━\u001b[0m\u001b[37m\u001b[0m \u001b[1m11s\u001b[0m 3ms/step - accuracy: 0.6834 - loss: 0.6487 - val_accuracy: 0.6986 - val_loss: 0.6229 - learning_rate: 0.0010\n",
            "Epoch 8/200\n",
            "\u001b[1m3500/3500\u001b[0m \u001b[32m━━━━━━━━━━━━━━━━━━━━\u001b[0m\u001b[37m\u001b[0m \u001b[1m11s\u001b[0m 3ms/step - accuracy: 0.6833 - loss: 0.6482 - val_accuracy: 0.7041 - val_loss: 0.6238 - learning_rate: 0.0010\n",
            "Epoch 9/200\n",
            "\u001b[1m3500/3500\u001b[0m \u001b[32m━━━━━━━━━━━━━━━━━━━━\u001b[0m\u001b[37m\u001b[0m \u001b[1m23s\u001b[0m 4ms/step - accuracy: 0.6822 - loss: 0.6464 - val_accuracy: 0.7040 - val_loss: 0.6222 - learning_rate: 0.0010\n",
            "Epoch 10/200\n",
            "\u001b[1m3500/3500\u001b[0m \u001b[32m━━━━━━━━━━━━━━━━━━━━\u001b[0m\u001b[37m\u001b[0m \u001b[1m20s\u001b[0m 4ms/step - accuracy: 0.6807 - loss: 0.6449 - val_accuracy: 0.7009 - val_loss: 0.6178 - learning_rate: 0.0010\n",
            "Epoch 11/200\n",
            "\u001b[1m3500/3500\u001b[0m \u001b[32m━━━━━━━━━━━━━━━━━━━━\u001b[0m\u001b[37m\u001b[0m \u001b[1m21s\u001b[0m 4ms/step - accuracy: 0.6814 - loss: 0.6461 - val_accuracy: 0.6989 - val_loss: 0.6186 - learning_rate: 0.0010\n",
            "Epoch 12/200\n",
            "\u001b[1m3500/3500\u001b[0m \u001b[32m━━━━━━━━━━━━━━━━━━━━\u001b[0m\u001b[37m\u001b[0m \u001b[1m11s\u001b[0m 3ms/step - accuracy: 0.6817 - loss: 0.6407 - val_accuracy: 0.6937 - val_loss: 0.6274 - learning_rate: 0.0010\n",
            "Epoch 13/200\n",
            "\u001b[1m3500/3500\u001b[0m \u001b[32m━━━━━━━━━━━━━━━━━━━━\u001b[0m\u001b[37m\u001b[0m \u001b[1m20s\u001b[0m 3ms/step - accuracy: 0.6849 - loss: 0.6391 - val_accuracy: 0.6869 - val_loss: 0.6264 - learning_rate: 0.0010\n",
            "Epoch 14/200\n",
            "\u001b[1m3500/3500\u001b[0m \u001b[32m━━━━━━━━━━━━━━━━━━━━\u001b[0m\u001b[37m\u001b[0m \u001b[1m12s\u001b[0m 3ms/step - accuracy: 0.6803 - loss: 0.6418 - val_accuracy: 0.7098 - val_loss: 0.6138 - learning_rate: 0.0010\n",
            "Epoch 15/200\n",
            "\u001b[1m3500/3500\u001b[0m \u001b[32m━━━━━━━━━━━━━━━━━━━━\u001b[0m\u001b[37m\u001b[0m \u001b[1m21s\u001b[0m 3ms/step - accuracy: 0.6808 - loss: 0.6404 - val_accuracy: 0.6994 - val_loss: 0.6169 - learning_rate: 0.0010\n",
            "Epoch 16/200\n",
            "\u001b[1m3500/3500\u001b[0m \u001b[32m━━━━━━━━━━━━━━━━━━━━\u001b[0m\u001b[37m\u001b[0m \u001b[1m10s\u001b[0m 3ms/step - accuracy: 0.6790 - loss: 0.6421 - val_accuracy: 0.7057 - val_loss: 0.6119 - learning_rate: 0.0010\n",
            "Epoch 17/200\n",
            "\u001b[1m3500/3500\u001b[0m \u001b[32m━━━━━━━━━━━━━━━━━━━━\u001b[0m\u001b[37m\u001b[0m \u001b[1m12s\u001b[0m 3ms/step - accuracy: 0.6806 - loss: 0.6401 - val_accuracy: 0.7048 - val_loss: 0.6097 - learning_rate: 0.0010\n",
            "Epoch 18/200\n",
            "\u001b[1m3500/3500\u001b[0m \u001b[32m━━━━━━━━━━━━━━━━━━━━\u001b[0m\u001b[37m\u001b[0m \u001b[1m21s\u001b[0m 4ms/step - accuracy: 0.6777 - loss: 0.6413 - val_accuracy: 0.6975 - val_loss: 0.6139 - learning_rate: 0.0010\n",
            "Epoch 19/200\n",
            "\u001b[1m3500/3500\u001b[0m \u001b[32m━━━━━━━━━━━━━━━━━━━━\u001b[0m\u001b[37m\u001b[0m \u001b[1m10s\u001b[0m 3ms/step - accuracy: 0.6778 - loss: 0.6393 - val_accuracy: 0.6929 - val_loss: 0.6191 - learning_rate: 0.0010\n",
            "Epoch 20/200\n",
            "\u001b[1m3500/3500\u001b[0m \u001b[32m━━━━━━━━━━━━━━━━━━━━\u001b[0m\u001b[37m\u001b[0m \u001b[1m14s\u001b[0m 4ms/step - accuracy: 0.6749 - loss: 0.6398 - val_accuracy: 0.6953 - val_loss: 0.6128 - learning_rate: 0.0010\n",
            "Epoch 21/200\n",
            "\u001b[1m3500/3500\u001b[0m \u001b[32m━━━━━━━━━━━━━━━━━━━━\u001b[0m\u001b[37m\u001b[0m \u001b[1m20s\u001b[0m 4ms/step - accuracy: 0.6756 - loss: 0.6399 - val_accuracy: 0.6941 - val_loss: 0.6209 - learning_rate: 0.0010\n",
            "Epoch 22/200\n",
            "\u001b[1m3500/3500\u001b[0m \u001b[32m━━━━━━━━━━━━━━━━━━━━\u001b[0m\u001b[37m\u001b[0m \u001b[1m13s\u001b[0m 4ms/step - accuracy: 0.6777 - loss: 0.6391 - val_accuracy: 0.6983 - val_loss: 0.6139 - learning_rate: 0.0010\n",
            "Epoch 23/200\n",
            "\u001b[1m3500/3500\u001b[0m \u001b[32m━━━━━━━━━━━━━━━━━━━━\u001b[0m\u001b[37m\u001b[0m \u001b[1m18s\u001b[0m 3ms/step - accuracy: 0.6905 - loss: 0.6228 - val_accuracy: 0.7132 - val_loss: 0.5906 - learning_rate: 2.0000e-04\n",
            "Epoch 24/200\n",
            "\u001b[1m3500/3500\u001b[0m \u001b[32m━━━━━━━━━━━━━━━━━━━━\u001b[0m\u001b[37m\u001b[0m \u001b[1m19s\u001b[0m 3ms/step - accuracy: 0.6948 - loss: 0.6115 - val_accuracy: 0.7128 - val_loss: 0.5852 - learning_rate: 2.0000e-04\n",
            "Epoch 25/200\n",
            "\u001b[1m3500/3500\u001b[0m \u001b[32m━━━━━━━━━━━━━━━━━━━━\u001b[0m\u001b[37m\u001b[0m \u001b[1m11s\u001b[0m 3ms/step - accuracy: 0.6997 - loss: 0.6041 - val_accuracy: 0.7174 - val_loss: 0.5813 - learning_rate: 2.0000e-04\n",
            "Epoch 26/200\n",
            "\u001b[1m3500/3500\u001b[0m \u001b[32m━━━━━━━━━━━━━━━━━━━━\u001b[0m\u001b[37m\u001b[0m \u001b[1m20s\u001b[0m 3ms/step - accuracy: 0.7003 - loss: 0.6009 - val_accuracy: 0.7010 - val_loss: 0.5939 - learning_rate: 2.0000e-04\n",
            "Epoch 27/200\n",
            "\u001b[1m3500/3500\u001b[0m \u001b[32m━━━━━━━━━━━━━━━━━━━━\u001b[0m\u001b[37m\u001b[0m \u001b[1m12s\u001b[0m 3ms/step - accuracy: 0.7018 - loss: 0.6000 - val_accuracy: 0.7064 - val_loss: 0.5897 - learning_rate: 2.0000e-04\n",
            "Epoch 28/200\n",
            "\u001b[1m3500/3500\u001b[0m \u001b[32m━━━━━━━━━━━━━━━━━━━━\u001b[0m\u001b[37m\u001b[0m \u001b[1m12s\u001b[0m 3ms/step - accuracy: 0.7024 - loss: 0.5993 - val_accuracy: 0.7076 - val_loss: 0.5880 - learning_rate: 2.0000e-04\n",
            "Epoch 29/200\n",
            "\u001b[1m3500/3500\u001b[0m \u001b[32m━━━━━━━━━━━━━━━━━━━━\u001b[0m\u001b[37m\u001b[0m \u001b[1m19s\u001b[0m 3ms/step - accuracy: 0.7041 - loss: 0.5957 - val_accuracy: 0.7154 - val_loss: 0.5791 - learning_rate: 2.0000e-04\n",
            "Epoch 30/200\n",
            "\u001b[1m3500/3500\u001b[0m \u001b[32m━━━━━━━━━━━━━━━━━━━━\u001b[0m\u001b[37m\u001b[0m \u001b[1m21s\u001b[0m 3ms/step - accuracy: 0.7060 - loss: 0.5956 - val_accuracy: 0.7200 - val_loss: 0.5723 - learning_rate: 2.0000e-04\n",
            "Epoch 31/200\n",
            "\u001b[1m3500/3500\u001b[0m \u001b[32m━━━━━━━━━━━━━━━━━━━━\u001b[0m\u001b[37m\u001b[0m \u001b[1m20s\u001b[0m 3ms/step - accuracy: 0.7067 - loss: 0.5938 - val_accuracy: 0.7081 - val_loss: 0.5868 - learning_rate: 2.0000e-04\n",
            "Epoch 32/200\n",
            "\u001b[1m3500/3500\u001b[0m \u001b[32m━━━━━━━━━━━━━━━━━━━━\u001b[0m\u001b[37m\u001b[0m \u001b[1m12s\u001b[0m 3ms/step - accuracy: 0.7052 - loss: 0.5941 - val_accuracy: 0.7222 - val_loss: 0.5779 - learning_rate: 2.0000e-04\n",
            "Epoch 33/200\n",
            "\u001b[1m3500/3500\u001b[0m \u001b[32m━━━━━━━━━━━━━━━━━━━━\u001b[0m\u001b[37m\u001b[0m \u001b[1m9s\u001b[0m 3ms/step - accuracy: 0.7069 - loss: 0.5928 - val_accuracy: 0.7133 - val_loss: 0.5798 - learning_rate: 2.0000e-04\n",
            "Epoch 34/200\n",
            "\u001b[1m3500/3500\u001b[0m \u001b[32m━━━━━━━━━━━━━━━━━━━━\u001b[0m\u001b[37m\u001b[0m \u001b[1m15s\u001b[0m 4ms/step - accuracy: 0.7070 - loss: 0.5938 - val_accuracy: 0.7178 - val_loss: 0.5771 - learning_rate: 2.0000e-04\n",
            "Epoch 35/200\n",
            "\u001b[1m3500/3500\u001b[0m \u001b[32m━━━━━━━━━━━━━━━━━━━━\u001b[0m\u001b[37m\u001b[0m \u001b[1m12s\u001b[0m 3ms/step - accuracy: 0.7029 - loss: 0.5953 - val_accuracy: 0.7257 - val_loss: 0.5694 - learning_rate: 2.0000e-04\n",
            "Epoch 36/200\n",
            "\u001b[1m3500/3500\u001b[0m \u001b[32m━━━━━━━━━━━━━━━━━━━━\u001b[0m\u001b[37m\u001b[0m \u001b[1m13s\u001b[0m 4ms/step - accuracy: 0.7078 - loss: 0.5924 - val_accuracy: 0.7161 - val_loss: 0.5791 - learning_rate: 2.0000e-04\n",
            "Epoch 37/200\n",
            "\u001b[1m3500/3500\u001b[0m \u001b[32m━━━━━━━━━━━━━━━━━━━━\u001b[0m\u001b[37m\u001b[0m \u001b[1m19s\u001b[0m 4ms/step - accuracy: 0.7066 - loss: 0.5930 - val_accuracy: 0.7191 - val_loss: 0.5796 - learning_rate: 2.0000e-04\n",
            "Epoch 38/200\n",
            "\u001b[1m3500/3500\u001b[0m \u001b[32m━━━━━━━━━━━━━━━━━━━━\u001b[0m\u001b[37m\u001b[0m \u001b[1m10s\u001b[0m 3ms/step - accuracy: 0.7066 - loss: 0.5931 - val_accuracy: 0.7211 - val_loss: 0.5755 - learning_rate: 2.0000e-04\n",
            "Epoch 39/200\n",
            "\u001b[1m3500/3500\u001b[0m \u001b[32m━━━━━━━━━━━━━━━━━━━━\u001b[0m\u001b[37m\u001b[0m \u001b[1m13s\u001b[0m 4ms/step - accuracy: 0.7076 - loss: 0.5921 - val_accuracy: 0.7251 - val_loss: 0.5762 - learning_rate: 2.0000e-04\n",
            "Epoch 40/200\n",
            "\u001b[1m3500/3500\u001b[0m \u001b[32m━━━━━━━━━━━━━━━━━━━━\u001b[0m\u001b[37m\u001b[0m \u001b[1m19s\u001b[0m 3ms/step - accuracy: 0.7080 - loss: 0.5915 - val_accuracy: 0.7282 - val_loss: 0.5682 - learning_rate: 2.0000e-04\n",
            "Epoch 41/200\n",
            "\u001b[1m3500/3500\u001b[0m \u001b[32m━━━━━━━━━━━━━━━━━━━━\u001b[0m\u001b[37m\u001b[0m \u001b[1m12s\u001b[0m 3ms/step - accuracy: 0.7069 - loss: 0.5931 - val_accuracy: 0.7220 - val_loss: 0.5770 - learning_rate: 2.0000e-04\n",
            "Epoch 42/200\n",
            "\u001b[1m3500/3500\u001b[0m \u001b[32m━━━━━━━━━━━━━━━━━━━━\u001b[0m\u001b[37m\u001b[0m \u001b[1m11s\u001b[0m 3ms/step - accuracy: 0.7059 - loss: 0.5924 - val_accuracy: 0.7310 - val_loss: 0.5689 - learning_rate: 2.0000e-04\n",
            "Epoch 43/200\n",
            "\u001b[1m3500/3500\u001b[0m \u001b[32m━━━━━━━━━━━━━━━━━━━━\u001b[0m\u001b[37m\u001b[0m \u001b[1m20s\u001b[0m 3ms/step - accuracy: 0.7084 - loss: 0.5917 - val_accuracy: 0.7248 - val_loss: 0.5733 - learning_rate: 2.0000e-04\n",
            "Epoch 44/200\n",
            "\u001b[1m3500/3500\u001b[0m \u001b[32m━━━━━━━━━━━━━━━━━━━━\u001b[0m\u001b[37m\u001b[0m \u001b[1m20s\u001b[0m 3ms/step - accuracy: 0.7089 - loss: 0.5911 - val_accuracy: 0.7224 - val_loss: 0.5747 - learning_rate: 2.0000e-04\n",
            "Epoch 45/200\n",
            "\u001b[1m3500/3500\u001b[0m \u001b[32m━━━━━━━━━━━━━━━━━━━━\u001b[0m\u001b[37m\u001b[0m \u001b[1m12s\u001b[0m 3ms/step - accuracy: 0.7103 - loss: 0.5911 - val_accuracy: 0.7350 - val_loss: 0.5617 - learning_rate: 2.0000e-04\n",
            "Epoch 46/200\n",
            "\u001b[1m3500/3500\u001b[0m \u001b[32m━━━━━━━━━━━━━━━━━━━━\u001b[0m\u001b[37m\u001b[0m \u001b[1m10s\u001b[0m 3ms/step - accuracy: 0.7124 - loss: 0.5893 - val_accuracy: 0.7261 - val_loss: 0.5734 - learning_rate: 2.0000e-04\n",
            "Epoch 47/200\n",
            "\u001b[1m3500/3500\u001b[0m \u001b[32m━━━━━━━━━━━━━━━━━━━━\u001b[0m\u001b[37m\u001b[0m \u001b[1m13s\u001b[0m 4ms/step - accuracy: 0.7105 - loss: 0.5905 - val_accuracy: 0.7292 - val_loss: 0.5710 - learning_rate: 2.0000e-04\n",
            "Epoch 48/200\n",
            "\u001b[1m3500/3500\u001b[0m \u001b[32m━━━━━━━━━━━━━━━━━━━━\u001b[0m\u001b[37m\u001b[0m \u001b[1m14s\u001b[0m 4ms/step - accuracy: 0.7104 - loss: 0.5904 - val_accuracy: 0.7290 - val_loss: 0.5737 - learning_rate: 2.0000e-04\n",
            "Epoch 49/200\n",
            "\u001b[1m3500/3500\u001b[0m \u001b[32m━━━━━━━━━━━━━━━━━━━━\u001b[0m\u001b[37m\u001b[0m \u001b[1m12s\u001b[0m 3ms/step - accuracy: 0.7094 - loss: 0.5897 - val_accuracy: 0.7319 - val_loss: 0.5720 - learning_rate: 2.0000e-04\n",
            "Epoch 50/200\n",
            "\u001b[1m3500/3500\u001b[0m \u001b[32m━━━━━━━━━━━━━━━━━━━━\u001b[0m\u001b[37m\u001b[0m \u001b[1m21s\u001b[0m 4ms/step - accuracy: 0.7111 - loss: 0.5888 - val_accuracy: 0.7291 - val_loss: 0.5680 - learning_rate: 2.0000e-04\n",
            "Epoch 51/200\n",
            "\u001b[1m3500/3500\u001b[0m \u001b[32m━━━━━━━━━━━━━━━━━━━━\u001b[0m\u001b[37m\u001b[0m \u001b[1m10s\u001b[0m 3ms/step - accuracy: 0.7154 - loss: 0.5852 - val_accuracy: 0.7359 - val_loss: 0.5616 - learning_rate: 4.0000e-05\n",
            "Epoch 52/200\n",
            "\u001b[1m3500/3500\u001b[0m \u001b[32m━━━━━━━━━━━━━━━━━━━━\u001b[0m\u001b[37m\u001b[0m \u001b[1m12s\u001b[0m 3ms/step - accuracy: 0.7194 - loss: 0.5803 - val_accuracy: 0.7365 - val_loss: 0.5612 - learning_rate: 4.0000e-05\n",
            "Epoch 53/200\n",
            "\u001b[1m3500/3500\u001b[0m \u001b[32m━━━━━━━━━━━━━━━━━━━━\u001b[0m\u001b[37m\u001b[0m \u001b[1m21s\u001b[0m 4ms/step - accuracy: 0.7199 - loss: 0.5795 - val_accuracy: 0.7372 - val_loss: 0.5601 - learning_rate: 4.0000e-05\n",
            "Epoch 54/200\n",
            "\u001b[1m3500/3500\u001b[0m \u001b[32m━━━━━━━━━━━━━━━━━━━━\u001b[0m\u001b[37m\u001b[0m \u001b[1m10s\u001b[0m 3ms/step - accuracy: 0.7192 - loss: 0.5777 - val_accuracy: 0.7377 - val_loss: 0.5591 - learning_rate: 4.0000e-05\n",
            "Epoch 55/200\n",
            "\u001b[1m3500/3500\u001b[0m \u001b[32m━━━━━━━━━━━━━━━━━━━━\u001b[0m\u001b[37m\u001b[0m \u001b[1m13s\u001b[0m 4ms/step - accuracy: 0.7197 - loss: 0.5772 - val_accuracy: 0.7390 - val_loss: 0.5583 - learning_rate: 4.0000e-05\n",
            "Epoch 56/200\n",
            "\u001b[1m3500/3500\u001b[0m \u001b[32m━━━━━━━━━━━━━━━━━━━━\u001b[0m\u001b[37m\u001b[0m \u001b[1m9s\u001b[0m 3ms/step - accuracy: 0.7224 - loss: 0.5749 - val_accuracy: 0.7362 - val_loss: 0.5611 - learning_rate: 4.0000e-05\n",
            "Epoch 57/200\n",
            "\u001b[1m3500/3500\u001b[0m \u001b[32m━━━━━━━━━━━━━━━━━━━━\u001b[0m\u001b[37m\u001b[0m \u001b[1m14s\u001b[0m 4ms/step - accuracy: 0.7212 - loss: 0.5774 - val_accuracy: 0.7356 - val_loss: 0.5600 - learning_rate: 4.0000e-05\n",
            "Epoch 58/200\n",
            "\u001b[1m3500/3500\u001b[0m \u001b[32m━━━━━━━━━━━━━━━━━━━━\u001b[0m\u001b[37m\u001b[0m \u001b[1m9s\u001b[0m 3ms/step - accuracy: 0.7218 - loss: 0.5771 - val_accuracy: 0.7401 - val_loss: 0.5555 - learning_rate: 4.0000e-05\n",
            "Epoch 59/200\n",
            "\u001b[1m3500/3500\u001b[0m \u001b[32m━━━━━━━━━━━━━━━━━━━━\u001b[0m\u001b[37m\u001b[0m \u001b[1m14s\u001b[0m 4ms/step - accuracy: 0.7222 - loss: 0.5756 - val_accuracy: 0.7394 - val_loss: 0.5576 - learning_rate: 4.0000e-05\n",
            "Epoch 60/200\n",
            "\u001b[1m3500/3500\u001b[0m \u001b[32m━━━━━━━━━━━━━━━━━━━━\u001b[0m\u001b[37m\u001b[0m \u001b[1m10s\u001b[0m 3ms/step - accuracy: 0.7224 - loss: 0.5739 - val_accuracy: 0.7393 - val_loss: 0.5577 - learning_rate: 4.0000e-05\n",
            "Epoch 61/200\n",
            "\u001b[1m3500/3500\u001b[0m \u001b[32m━━━━━━━━━━━━━━━━━━━━\u001b[0m\u001b[37m\u001b[0m \u001b[1m13s\u001b[0m 3ms/step - accuracy: 0.7235 - loss: 0.5725 - val_accuracy: 0.7392 - val_loss: 0.5576 - learning_rate: 4.0000e-05\n",
            "Epoch 62/200\n",
            "\u001b[1m3500/3500\u001b[0m \u001b[32m━━━━━━━━━━━━━━━━━━━━\u001b[0m\u001b[37m\u001b[0m \u001b[1m9s\u001b[0m 3ms/step - accuracy: 0.7248 - loss: 0.5728 - val_accuracy: 0.7378 - val_loss: 0.5572 - learning_rate: 4.0000e-05\n",
            "Epoch 63/200\n",
            "\u001b[1m3500/3500\u001b[0m \u001b[32m━━━━━━━━━━━━━━━━━━━━\u001b[0m\u001b[37m\u001b[0m \u001b[1m15s\u001b[0m 4ms/step - accuracy: 0.7244 - loss: 0.5732 - val_accuracy: 0.7376 - val_loss: 0.5589 - learning_rate: 4.0000e-05\n",
            "Epoch 64/200\n",
            "\u001b[1m3500/3500\u001b[0m \u001b[32m━━━━━━━━━━━━━━━━━━━━\u001b[0m\u001b[37m\u001b[0m \u001b[1m17s\u001b[0m 3ms/step - accuracy: 0.7246 - loss: 0.5717 - val_accuracy: 0.7381 - val_loss: 0.5560 - learning_rate: 8.0000e-06\n",
            "Epoch 65/200\n",
            "\u001b[1m3500/3500\u001b[0m \u001b[32m━━━━━━━━━━━━━━━━━━━━\u001b[0m\u001b[37m\u001b[0m \u001b[1m12s\u001b[0m 3ms/step - accuracy: 0.7239 - loss: 0.5715 - val_accuracy: 0.7379 - val_loss: 0.5560 - learning_rate: 8.0000e-06\n",
            "Epoch 66/200\n",
            "\u001b[1m3500/3500\u001b[0m \u001b[32m━━━━━━━━━━━━━━━━━━━━\u001b[0m\u001b[37m\u001b[0m \u001b[1m21s\u001b[0m 3ms/step - accuracy: 0.7235 - loss: 0.5730 - val_accuracy: 0.7380 - val_loss: 0.5558 - learning_rate: 8.0000e-06\n",
            "Epoch 67/200\n",
            "\u001b[1m3500/3500\u001b[0m \u001b[32m━━━━━━━━━━━━━━━━━━━━\u001b[0m\u001b[37m\u001b[0m \u001b[1m21s\u001b[0m 4ms/step - accuracy: 0.7264 - loss: 0.5707 - val_accuracy: 0.7389 - val_loss: 0.5553 - learning_rate: 8.0000e-06\n",
            "Epoch 68/200\n",
            "\u001b[1m3500/3500\u001b[0m \u001b[32m━━━━━━━━━━━━━━━━━━━━\u001b[0m\u001b[37m\u001b[0m \u001b[1m9s\u001b[0m 3ms/step - accuracy: 0.7254 - loss: 0.5709 - val_accuracy: 0.7393 - val_loss: 0.5548 - learning_rate: 8.0000e-06\n",
            "Epoch 69/200\n",
            "\u001b[1m3500/3500\u001b[0m \u001b[32m━━━━━━━━━━━━━━━━━━━━\u001b[0m\u001b[37m\u001b[0m \u001b[1m14s\u001b[0m 4ms/step - accuracy: 0.7240 - loss: 0.5705 - val_accuracy: 0.7393 - val_loss: 0.5547 - learning_rate: 8.0000e-06\n",
            "Epoch 70/200\n",
            "\u001b[1m3500/3500\u001b[0m \u001b[32m━━━━━━━━━━━━━━━━━━━━\u001b[0m\u001b[37m\u001b[0m \u001b[1m22s\u001b[0m 4ms/step - accuracy: 0.7226 - loss: 0.5720 - val_accuracy: 0.7392 - val_loss: 0.5543 - learning_rate: 8.0000e-06\n",
            "Epoch 71/200\n",
            "\u001b[1m3500/3500\u001b[0m \u001b[32m━━━━━━━━━━━━━━━━━━━━\u001b[0m\u001b[37m\u001b[0m \u001b[1m19s\u001b[0m 4ms/step - accuracy: 0.7258 - loss: 0.5706 - val_accuracy: 0.7410 - val_loss: 0.5533 - learning_rate: 8.0000e-06\n",
            "Epoch 72/200\n",
            "\u001b[1m3500/3500\u001b[0m \u001b[32m━━━━━━━━━━━━━━━━━━━━\u001b[0m\u001b[37m\u001b[0m \u001b[1m20s\u001b[0m 3ms/step - accuracy: 0.7262 - loss: 0.5688 - val_accuracy: 0.7400 - val_loss: 0.5547 - learning_rate: 8.0000e-06\n",
            "Epoch 73/200\n",
            "\u001b[1m3500/3500\u001b[0m \u001b[32m━━━━━━━━━━━━━━━━━━━━\u001b[0m\u001b[37m\u001b[0m \u001b[1m19s\u001b[0m 3ms/step - accuracy: 0.7258 - loss: 0.5704 - val_accuracy: 0.7393 - val_loss: 0.5546 - learning_rate: 8.0000e-06\n",
            "Epoch 74/200\n",
            "\u001b[1m3500/3500\u001b[0m \u001b[32m━━━━━━━━━━━━━━━━━━━━\u001b[0m\u001b[37m\u001b[0m \u001b[1m14s\u001b[0m 4ms/step - accuracy: 0.7249 - loss: 0.5713 - val_accuracy: 0.7398 - val_loss: 0.5548 - learning_rate: 8.0000e-06\n",
            "Epoch 75/200\n",
            "\u001b[1m3500/3500\u001b[0m \u001b[32m━━━━━━━━━━━━━━━━━━━━\u001b[0m\u001b[37m\u001b[0m \u001b[1m19s\u001b[0m 4ms/step - accuracy: 0.7280 - loss: 0.5689 - val_accuracy: 0.7412 - val_loss: 0.5545 - learning_rate: 8.0000e-06\n",
            "Epoch 76/200\n",
            "\u001b[1m3500/3500\u001b[0m \u001b[32m━━━━━━━━━━━━━━━━━━━━\u001b[0m\u001b[37m\u001b[0m \u001b[1m19s\u001b[0m 3ms/step - accuracy: 0.7264 - loss: 0.5698 - val_accuracy: 0.7384 - val_loss: 0.5554 - learning_rate: 8.0000e-06\n",
            "Epoch 77/200\n",
            "\u001b[1m3500/3500\u001b[0m \u001b[32m━━━━━━━━━━━━━━━━━━━━\u001b[0m\u001b[37m\u001b[0m \u001b[1m11s\u001b[0m 3ms/step - accuracy: 0.7265 - loss: 0.5694 - val_accuracy: 0.7398 - val_loss: 0.5544 - learning_rate: 1.6000e-06\n",
            "Epoch 78/200\n",
            "\u001b[1m3500/3500\u001b[0m \u001b[32m━━━━━━━━━━━━━━━━━━━━\u001b[0m\u001b[37m\u001b[0m \u001b[1m11s\u001b[0m 3ms/step - accuracy: 0.7256 - loss: 0.5700 - val_accuracy: 0.7410 - val_loss: 0.5535 - learning_rate: 1.6000e-06\n",
            "Epoch 79/200\n",
            "\u001b[1m3500/3500\u001b[0m \u001b[32m━━━━━━━━━━━━━━━━━━━━\u001b[0m\u001b[37m\u001b[0m \u001b[1m11s\u001b[0m 3ms/step - accuracy: 0.7264 - loss: 0.5701 - val_accuracy: 0.7383 - val_loss: 0.5549 - learning_rate: 1.6000e-06\n",
            "Epoch 80/200\n",
            "\u001b[1m3500/3500\u001b[0m \u001b[32m━━━━━━━━━━━━━━━━━━━━\u001b[0m\u001b[37m\u001b[0m \u001b[1m20s\u001b[0m 3ms/step - accuracy: 0.7275 - loss: 0.5692 - val_accuracy: 0.7407 - val_loss: 0.5540 - learning_rate: 1.6000e-06\n",
            "Epoch 81/200\n",
            "\u001b[1m3500/3500\u001b[0m \u001b[32m━━━━━━━━━━━━━━━━━━━━\u001b[0m\u001b[37m\u001b[0m \u001b[1m11s\u001b[0m 3ms/step - accuracy: 0.7253 - loss: 0.5706 - val_accuracy: 0.7400 - val_loss: 0.5535 - learning_rate: 1.6000e-06\n"
          ]
        }
      ],
      "source": [
        "from tensorflow.keras.models import Sequential\n",
        "from tensorflow.keras.layers import Dense, Dropout, BatchNormalization\n",
        "from tensorflow.keras.optimizers import Adam, RMSprop\n",
        "from tensorflow.keras.regularizers import l2\n",
        "from tensorflow.keras.callbacks import EarlyStopping, ReduceLROnPlateau\n",
        "\n",
        "\n",
        "def build_model(input_dim):\n",
        "    model = Sequential()\n",
        "    model.add(Dense(512, activation='relu', input_dim=input_dim, kernel_regularizer=l2(0.001)))\n",
        "    model.add(BatchNormalization())\n",
        "    model.add(Dropout(0.5))\n",
        "    model.add(Dense(256, activation='relu', kernel_regularizer=l2(0.001)))\n",
        "    model.add(BatchNormalization())\n",
        "    model.add(Dropout(0.5))\n",
        "    model.add(Dense(128, activation='relu', kernel_regularizer=l2(0.001)))\n",
        "    model.add(Dropout(0.5))\n",
        "    model.add(Dense(64, activation='relu', kernel_regularizer=l2(0.001)))\n",
        "    model.add(Dropout(0.5))\n",
        "    model.add(Dense(1, activation='sigmoid'))\n",
        "    return model\n",
        "\n",
        "\n",
        "model = build_model(input_dim=X_train_combined_glove.shape[1])\n",
        "model.compile(optimizer=RMSprop(learning_rate=0.001), loss='binary_crossentropy', metrics=['accuracy'])\n",
        "\n",
        "\n",
        "early_stopping = EarlyStopping(monitor='val_loss', patience=10, restore_best_weights=True)\n",
        "lr_scheduler = ReduceLROnPlateau(monitor='val_loss', factor=0.2, patience=5, min_lr=1e-7)\n",
        "\n",
        "history = model.fit(\n",
        "    X_train_combined_glove,\n",
        "    y_train,\n",
        "    epochs=200,\n",
        "    batch_size=64,\n",
        "    validation_data=(X_test_combined_glove, y_test),\n",
        "    callbacks=[early_stopping, lr_scheduler],\n",
        "    verbose=1\n",
        ")"
      ]
    },
    {
      "cell_type": "code",
      "source": [
        "history = history.history\n",
        "\n",
        "plt.plot(history[\"accuracy\"])\n",
        "plt.plot(history[\"val_accuracy\"])\n",
        "plt.show()"
      ],
      "metadata": {
        "colab": {
          "base_uri": "https://localhost:8080/",
          "height": 258
        },
        "id": "vvQkCvs3zkle",
        "outputId": "1b4cc701-e404-46f9-e1be-15e54ad72942"
      },
      "execution_count": null,
      "outputs": [
        {
          "output_type": "display_data",
          "data": {
            "text/plain": [
              "<Figure size 640x480 with 1 Axes>"
            ],
            "image/png": "[encoded data removed]"
          },
          "metadata": {}
        }
      ]
    },
    {
      "cell_type": "code",
      "source": [
        "plt.plot(history[\"loss\"])\n",
        "plt.plot(history[\"val_loss\"])\n",
        "plt.show()"
      ],
      "metadata": {
        "colab": {
          "base_uri": "https://localhost:8080/",
          "height": 258
        },
        "id": "lhiNuaKX3z50",
        "outputId": "d175d057-f5d2-4ef7-8907-3a1b26c32eef"
      },
      "execution_count": null,
      "outputs": [
        {
          "output_type": "display_data",
          "data": {
            "text/plain": [
              "<Figure size 640x480 with 1 Axes>"
            ],
            "image/png": "[encoded data removed]"
          },
          "metadata": {}
        }
      ]
    },
    {
      "cell_type": "markdown",
      "source": [
        "## **Model Prediction**\n",
        "\n",
        "Check the model performance in unseen Data"
      ],
      "metadata": {
        "id": "2M9AUTyI1u_C"
      }
    },
    {
      "cell_type": "code",
      "source": [
        "test_data = [\n",
        "    (\"What is the capital of France?\", \"Which city is the capital of France?\"),\n",
        "    (\"How to cook pasta?\", \"What is the population of India?\"),\n",
        "    (\"How can I improve my coding skills?\", \"What are the best ways to get better at coding?\"),\n",
        "    (\"What is machine learning?\", \"Explain the laws of thermodynamics.\"),\n",
        "    (\"What is the best smartphone in 2025?\", \"Which smartphone should I buy this year?\")\n",
        "]\n",
        "\n",
        "\n",
        "expected_results = [1, 0, 1, 0, 1]\n",
        "\n",
        "\n",
        "def preprocess_text(pair, glove_model):\n",
        "    text1, text2 = pair\n",
        "    processed_text1 = get_glove_embeddings(text1, glove_model)\n",
        "    processed_text2 = get_glove_embeddings(text2, glove_model)\n",
        "    return processed_text1, processed_text2\n",
        "\n",
        "# Prediction function\n",
        "def predict_duplicate(model, pair, glove_model):\n",
        "    processed_text1, processed_text2 = preprocess_text(pair, glove_model)\n",
        "    combined_input = np.concatenate([processed_text1, processed_text2]).reshape(1, -1)\n",
        "    prediction = model.predict(combined_input)\n",
        "    return 1 if prediction >= 0.5 else 0  # Binary classification threshold\n",
        "\n",
        "\n",
        "for i, pair in enumerate(test_data):\n",
        "    print(f\"Test Pair {i+1}: {pair}\")\n",
        "    prediction = predict_duplicate(model, pair, glove_model)\n",
        "    print(f\"Predicted: {prediction}, Expected: {expected_results[i]}\\n\")"
      ],
      "metadata": {
        "colab": {
          "base_uri": "https://localhost:8080/"
        },
        "id": "kFYrBnf4_FzV",
        "outputId": "be36fa0f-ccf2-45aa-dc0b-dfebe88a3108"
      },
      "execution_count": null,
      "outputs": [
        {
          "output_type": "stream",
          "name": "stdout",
          "text": [
            "Test Pair 1: ('What is the capital of France?', 'Which city is the capital of France?')\n",
            "\u001b[1m1/1\u001b[0m \u001b[32m━━━━━━━━━━━━━━━━━━━━\u001b[0m\u001b[37m\u001b[0m \u001b[1m0s\u001b[0m 255ms/step\n",
            "Predicted: 1, Expected: 1\n",
            "\n",
            "Test Pair 2: ('How to cook pasta?', 'What is the population of India?')\n",
            "\u001b[1m1/1\u001b[0m \u001b[32m━━━━━━━━━━━━━━━━━━━━\u001b[0m\u001b[37m\u001b[0m \u001b[1m0s\u001b[0m 19ms/step\n",
            "Predicted: 0, Expected: 0\n",
            "\n",
            "Test Pair 3: ('How can I improve my coding skills?', 'What are the best ways to get better at coding?')\n",
            "\u001b[1m1/1\u001b[0m \u001b[32m━━━━━━━━━━━━━━━━━━━━\u001b[0m\u001b[37m\u001b[0m \u001b[1m0s\u001b[0m 17ms/step\n",
            "Predicted: 1, Expected: 1\n",
            "\n",
            "Test Pair 4: ('What is machine learning?', 'Explain the laws of thermodynamics.')\n",
            "\u001b[1m1/1\u001b[0m \u001b[32m━━━━━━━━━━━━━━━━━━━━\u001b[0m\u001b[37m\u001b[0m \u001b[1m0s\u001b[0m 16ms/step\n",
            "Predicted: 0, Expected: 0\n",
            "\n",
            "Test Pair 5: ('What is the best smartphone in 2025?', 'Which smartphone should I buy this year?')\n",
            "\u001b[1m1/1\u001b[0m \u001b[32m━━━━━━━━━━━━━━━━━━━━\u001b[0m\u001b[37m\u001b[0m \u001b[1m0s\u001b[0m 17ms/step\n",
            "Predicted: 1, Expected: 1\n",
            "\n"
          ]
        }
      ]
    },
    {
      "cell_type": "code",
      "source": [
        "test_data = pd.read_csv(\"/content/test.csv\")\n",
        "test_data.head()"
      ],
      "metadata": {
        "colab": {
          "base_uri": "https://localhost:8080/",
          "height": 625
        },
        "id": "DU_fyiUY4DXL",
        "outputId": "476f453f-c066-4af3-bf82-5accba4af182"
      },
      "execution_count": null,
      "outputs": [
        {
          "output_type": "execute_result",
          "data": {
            "text/plain": [
              "   test_id  \\\n",
              "0        0   \n",
              "1        1   \n",
              "2        2   \n",
              "3        3   \n",
              "4        4   \n",
              "\n",
              "                                                            question1  \\\n",
              "0           How does the Surface Pro himself 4 compare with iPad Pro?   \n",
              "1  Should I have a hair transplant at age 24? How much would it cost?   \n",
              "2        What but is the best way to send money from China to the US?   \n",
              "3                                         Which food not emulsifiers?   \n",
              "4                                    How \"aberystwyth\" start reading?   \n",
              "\n",
              "                                                              question2  \n",
              "0  Why did Microsoft choose core m3 and not core i3 home Surface Pro 4?  \n",
              "1                           How much cost does hair transplant require?  \n",
              "2                                         What you send money to China?  \n",
              "3                                                     What foods fibre?  \n",
              "4                                        How their can I start reading?  "
            ],
            "text/html": [
              "\n",
              "  <div id=\"df-8fa173cc-3c04-425f-bf5d-3d42fbe16698\" class=\"colab-df-container\">\n",
              "    <div>\n",
              "<style scoped>\n",
              "    .dataframe tbody tr th:only-of-type {\n",
              "        vertical-align: middle;\n",
              "    }\n",
              "\n",
              "    .dataframe tbody tr th {\n",
              "        vertical-align: top;\n",
              "    }\n",
              "\n",
              "    .dataframe thead th {\n",
              "        text-align: right;\n",
              "    }\n",
              "</style>\n",
              "<table border=\"1\" class=\"dataframe\">\n",
              "  <thead>\n",
              "    <tr style=\"text-align: right;\">\n",
              "      <th></th>\n",
              "      <th>test_id</th>\n",
              "      <th>question1</th>\n",
              "      <th>question2</th>\n",
              "    </tr>\n",
              "  </thead>\n",
              "  <tbody>\n",
              "    <tr>\n",
              "      <th>0</th>\n",
              "      <td>0</td>\n",
              "      <td>How does the Surface Pro himself 4 compare with iPad Pro?</td>\n",
              "      <td>Why did Microsoft choose core m3 and not core i3 home Surface Pro 4?</td>\n",
              "    </tr>\n",
              "    <tr>\n",
              "      <th>1</th>\n",
              "      <td>1</td>\n",
              "      <td>Should I have a hair transplant at age 24? How much would it cost?</td>\n",
              "      <td>How much cost does hair transplant require?</td>\n",
              "    </tr>\n",
              "    <tr>\n",
              "      <th>2</th>\n",
              "      <td>2</td>\n",
              "      <td>What but is the best way to send money from China to the US?</td>\n",
              "      <td>What you send money to China?</td>\n",
              "    </tr>\n",
              "    <tr>\n",
              "      <th>3</th>\n",
              "      <td>3</td>\n",
              "      <td>Which food not emulsifiers?</td>\n",
              "      <td>What foods fibre?</td>\n",
              "    </tr>\n",
              "    <tr>\n",
              "      <th>4</th>\n",
              "      <td>4</td>\n",
              "      <td>How \"aberystwyth\" start reading?</td>\n",
              "      <td>How their can I start reading?</td>\n",
              "    </tr>\n",
              "  </tbody>\n",
              "</table>\n",
              "</div>\n",
              "    <div class=\"colab-df-buttons\">\n",
              "\n",
              "  <div class=\"colab-df-container\">\n",
              "    <button class=\"colab-df-convert\" onclick=\"convertToInteractive('df-8fa173cc-3c04-425f-bf5d-3d42fbe16698')\"\n",
              "            title=\"Convert this dataframe to an interactive table.\"\n",
              "            style=\"display:none;\">\n",
              "\n",
              "  <svg xmlns=\"http://www.w3.org/2000/svg\" height=\"24px\" viewBox=\"0 -960 960 960\">\n",
              "    <path d=\"M120-120v-720h720v720H120Zm60-500h600v-160H180v160Zm220 220h160v-160H400v160Zm0 220h160v-160H400v160ZM180-400h160v-160H180v160Zm440 0h160v-160H620v160ZM180-180h160v-160H180v160Zm440 0h160v-160H620v160Z\"/>\n",
              "  </svg>\n",
              "    </button>\n",
              "\n",
              "  <style>\n",
              "    .colab-df-container {\n",
              "      display:flex;\n",
              "      gap: 12px;\n",
              "    }\n",
              "\n",
              "    .colab-df-convert {\n",
              "      background-color: #E8F0FE;\n",
              "      border: none;\n",
              "      border-radius: 50%;\n",
              "      cursor: pointer;\n",
              "      display: none;\n",
              "      fill: #1967D2;\n",
              "      height: 32px;\n",
              "      padding: 0 0 0 0;\n",
              "      width: 32px;\n",
              "    }\n",
              "\n",
              "    .colab-df-convert:hover {\n",
              "      background-color: #E2EBFA;\n",
              "      box-shadow: 0px 1px 2px rgba(60, 64, 67, 0.3), 0px 1px 3px 1px rgba(60, 64, 67, 0.15);\n",
              "      fill: #174EA6;\n",
              "    }\n",
              "\n",
              "    .colab-df-buttons div {\n",
              "      margin-bottom: 4px;\n",
              "    }\n",
              "\n",
              "    [theme=dark] .colab-df-convert {\n",
              "      background-color: #3B4455;\n",
              "      fill: #D2E3FC;\n",
              "    }\n",
              "\n",
              "    [theme=dark] .colab-df-convert:hover {\n",
              "      background-color: #434B5C;\n",
              "      box-shadow: 0px 1px 3px 1px rgba(0, 0, 0, 0.15);\n",
              "      filter: drop-shadow(0px 1px 2px rgba(0, 0, 0, 0.3));\n",
              "      fill: #FFFFFF;\n",
              "    }\n",
              "  </style>\n",
              "\n",
              "    <script>\n",
              "      const buttonEl =\n",
              "        document.querySelector('#df-8fa173cc-3c04-425f-bf5d-3d42fbe16698 button.colab-df-convert');\n",
              "      buttonEl.style.display =\n",
              "        google.colab.kernel.accessAllowed ? 'block' : 'none';\n",
              "\n",
              "      async function convertToInteractive(key) {\n",
              "        const element = document.querySelector('#df-8fa173cc-3c04-425f-bf5d-3d42fbe16698');\n",
              "        const dataTable =\n",
              "          await google.colab.kernel.invokeFunction('convertToInteractive',\n",
              "                                                    [key], {});\n",
              "        if (!dataTable) return;\n",
              "\n",
              "        const docLinkHtml = 'Like what you see? Visit the ' +\n",
              "          '<a target=\"_blank\" href=https://colab.research.google.com/notebooks/data_table.ipynb>data table notebook</a>'\n",
              "          + ' to learn more about interactive tables.';\n",
              "        element.innerHTML = '';\n",
              "        dataTable['output_type'] = 'display_data';\n",
              "        await google.colab.output.renderOutput(dataTable, element);\n",
              "        const docLink = document.createElement('div');\n",
              "        docLink.innerHTML = docLinkHtml;\n",
              "        element.appendChild(docLink);\n",
              "      }\n",
              "    </script>\n",
              "  </div>\n",
              "\n",
              "\n",
              "<div id=\"df-68b5dd2d-39e6-4a0a-9494-894f9cfd9ff8\">\n",
              "  <button class=\"colab-df-quickchart\" onclick=\"quickchart('df-68b5dd2d-39e6-4a0a-9494-894f9cfd9ff8')\"\n",
              "            title=\"Suggest charts\"\n",
              "            style=\"display:none;\">\n",
              "\n",
              "<svg xmlns=\"http://www.w3.org/2000/svg\" height=\"24px\"viewBox=\"0 0 24 24\"\n",
              "     width=\"24px\">\n",
              "    <g>\n",
              "        <path d=\"M19 3H5c-1.1 0-2 .9-2 2v14c0 1.1.9 2 2 2h14c1.1 0 2-.9 2-2V5c0-1.1-.9-2-2-2zM9 17H7v-7h2v7zm4 0h-2V7h2v10zm4 0h-2v-4h2v4z\"/>\n",
              "    </g>\n",
              "</svg>\n",
              "  </button>\n",
              "\n",
              "<style>\n",
              "  .colab-df-quickchart {\n",
              "      --bg-color: #E8F0FE;\n",
              "      --fill-color: #1967D2;\n",
              "      --hover-bg-color: #E2EBFA;\n",
              "      --hover-fill-color: #174EA6;\n",
              "      --disabled-fill-color: #AAA;\n",
              "      --disabled-bg-color: #DDD;\n",
              "  }\n",
              "\n",
              "  [theme=dark] .colab-df-quickchart {\n",
              "      --bg-color: #3B4455;\n",
              "      --fill-color: #D2E3FC;\n",
              "      --hover-bg-color: #434B5C;\n",
              "      --hover-fill-color: #FFFFFF;\n",
              "      --disabled-bg-color: #3B4455;\n",
              "      --disabled-fill-color: #666;\n",
              "  }\n",
              "\n",
              "  .colab-df-quickchart {\n",
              "    background-color: var(--bg-color);\n",
              "    border: none;\n",
              "    border-radius: 50%;\n",
              "    cursor: pointer;\n",
              "    display: none;\n",
              "    fill: var(--fill-color);\n",
              "    height: 32px;\n",
              "    padding: 0;\n",
              "    width: 32px;\n",
              "  }\n",
              "\n",
              "  .colab-df-quickchart:hover {\n",
              "    background-color: var(--hover-bg-color);\n",
              "    box-shadow: 0 1px 2px rgba(60, 64, 67, 0.3), 0 1px 3px 1px rgba(60, 64, 67, 0.15);\n",
              "    fill: var(--button-hover-fill-color);\n",
              "  }\n",
              "\n",
              "  .colab-df-quickchart-complete:disabled,\n",
              "  .colab-df-quickchart-complete:disabled:hover {\n",
              "    background-color: var(--disabled-bg-color);\n",
              "    fill: var(--disabled-fill-color);\n",
              "    box-shadow: none;\n",
              "  }\n",
              "\n",
              "  .colab-df-spinner {\n",
              "    border: 2px solid var(--fill-color);\n",
              "    border-color: transparent;\n",
              "    border-bottom-color: var(--fill-color);\n",
              "    animation:\n",
              "      spin 1s steps(1) infinite;\n",
              "  }\n",
              "\n",
              "  @keyframes spin {\n",
              "    0% {\n",
              "      border-color: transparent;\n",
              "      border-bottom-color: var(--fill-color);\n",
              "      border-left-color: var(--fill-color);\n",
              "    }\n",
              "    20% {\n",
              "      border-color: transparent;\n",
              "      border-left-color: var(--fill-color);\n",
              "      border-top-color: var(--fill-color);\n",
              "    }\n",
              "    30% {\n",
              "      border-color: transparent;\n",
              "      border-left-color: var(--fill-color);\n",
              "      border-top-color: var(--fill-color);\n",
              "      border-right-color: var(--fill-color);\n",
              "    }\n",
              "    40% {\n",
              "      border-color: transparent;\n",
              "      border-right-color: var(--fill-color);\n",
              "      border-top-color: var(--fill-color);\n",
              "    }\n",
              "    60% {\n",
              "      border-color: transparent;\n",
              "      border-right-color: var(--fill-color);\n",
              "    }\n",
              "    80% {\n",
              "      border-color: transparent;\n",
              "      border-right-color: var(--fill-color);\n",
              "      border-bottom-color: var(--fill-color);\n",
              "    }\n",
              "    90% {\n",
              "      border-color: transparent;\n",
              "      border-bottom-color: var(--fill-color);\n",
              "    }\n",
              "  }\n",
              "</style>\n",
              "\n",
              "  <script>\n",
              "    async function quickchart(key) {\n",
              "      const quickchartButtonEl =\n",
              "        document.querySelector('#' + key + ' button');\n",
              "      quickchartButtonEl.disabled = true;  // To prevent multiple clicks.\n",
              "      quickchartButtonEl.classList.add('colab-df-spinner');\n",
              "      try {\n",
              "        const charts = await google.colab.kernel.invokeFunction(\n",
              "            'suggestCharts', [key], {});\n",
              "      } catch (error) {\n",
              "        console.error('Error during call to suggestCharts:', error);\n",
              "      }\n",
              "      quickchartButtonEl.classList.remove('colab-df-spinner');\n",
              "      quickchartButtonEl.classList.add('colab-df-quickchart-complete');\n",
              "    }\n",
              "    (() => {\n",
              "      let quickchartButtonEl =\n",
              "        document.querySelector('#df-68b5dd2d-39e6-4a0a-9494-894f9cfd9ff8 button');\n",
              "      quickchartButtonEl.style.display =\n",
              "        google.colab.kernel.accessAllowed ? 'block' : 'none';\n",
              "    })();\n",
              "  </script>\n",
              "</div>\n",
              "\n",
              "    </div>\n",
              "  </div>\n"
            ],
            "application/vnd.google.colaboratory.intrinsic+json": {
              "type": "dataframe",
              "variable_name": "test_data"
            }
          },
          "metadata": {},
          "execution_count": 32
        }
      ]
    },
    {
      "cell_type": "code",
      "source": [
        "test_data = test_data.head(10)\n",
        "test_data.shape"
      ],
      "metadata": {
        "colab": {
          "base_uri": "https://localhost:8080/"
        },
        "id": "0fqAua6yUDf1",
        "outputId": "e3c2ac9d-f261-4129-b23a-f54a5128cdc1"
      },
      "execution_count": null,
      "outputs": [
        {
          "output_type": "execute_result",
          "data": {
            "text/plain": [
              "(10, 3)"
            ]
          },
          "metadata": {},
          "execution_count": 34
        }
      ]
    },
    {
      "cell_type": "code",
      "source": [
        "results = []\n",
        "\n",
        "# Predict for each pair in the test data\n",
        "for i, row in test_data.iterrows():\n",
        "    pair = (row['question1'], row['question2'])\n",
        "    test_id = row['test_id']\n",
        "    is_duplicate = predict_duplicate(model, pair, glove_model)\n",
        "    results.append([test_id, is_duplicate])\n",
        "\n",
        "\n",
        "results_df = pd.DataFrame(results, columns=['test_id', 'is_duplicate'])\n",
        "results_df.to_csv('sample_submission_1.csv', index=False)\n",
        "\n",
        "print(\"Results saved to Sample.csv\")"
      ],
      "metadata": {
        "colab": {
          "base_uri": "https://localhost:8080/"
        },
        "id": "qGymjsQrGZB-",
        "outputId": "40f5b884-e643-44eb-d7a6-0a34bc63a6dc"
      },
      "execution_count": null,
      "outputs": [
        {
          "output_type": "stream",
          "name": "stdout",
          "text": [
            "\u001b[1m1/1\u001b[0m \u001b[32m━━━━━━━━━━━━━━━━━━━━\u001b[0m\u001b[37m\u001b[0m \u001b[1m0s\u001b[0m 29ms/step\n",
            "\u001b[1m1/1\u001b[0m \u001b[32m━━━━━━━━━━━━━━━━━━━━\u001b[0m\u001b[37m\u001b[0m \u001b[1m0s\u001b[0m 28ms/step\n",
            "\u001b[1m1/1\u001b[0m \u001b[32m━━━━━━━━━━━━━━━━━━━━\u001b[0m\u001b[37m\u001b[0m \u001b[1m0s\u001b[0m 32ms/step\n",
            "\u001b[1m1/1\u001b[0m \u001b[32m━━━━━━━━━━━━━━━━━━━━\u001b[0m\u001b[37m\u001b[0m \u001b[1m0s\u001b[0m 35ms/step\n",
            "\u001b[1m1/1\u001b[0m \u001b[32m━━━━━━━━━━━━━━━━━━━━\u001b[0m\u001b[37m\u001b[0m \u001b[1m0s\u001b[0m 47ms/step\n",
            "\u001b[1m1/1\u001b[0m \u001b[32m━━━━━━━━━━━━━━━━━━━━\u001b[0m\u001b[37m\u001b[0m \u001b[1m0s\u001b[0m 28ms/step\n",
            "\u001b[1m1/1\u001b[0m \u001b[32m━━━━━━━━━━━━━━━━━━━━\u001b[0m\u001b[37m\u001b[0m \u001b[1m0s\u001b[0m 29ms/step\n",
            "\u001b[1m1/1\u001b[0m \u001b[32m━━━━━━━━━━━━━━━━━━━━\u001b[0m\u001b[37m\u001b[0m \u001b[1m0s\u001b[0m 25ms/step\n",
            "\u001b[1m1/1\u001b[0m \u001b[32m━━━━━━━━━━━━━━━━━━━━\u001b[0m\u001b[37m\u001b[0m \u001b[1m0s\u001b[0m 25ms/step\n",
            "\u001b[1m1/1\u001b[0m \u001b[32m━━━━━━━━━━━━━━━━━━━━\u001b[0m\u001b[37m\u001b[0m \u001b[1m0s\u001b[0m 40ms/step\n",
            "Results saved to Sample.csv\n"
          ]
        }
      ]
    }
  ],
  "metadata": {
    "accelerator": "GPU",
    "colab": {
      "gpuType": "T4",
      "provenance": [],
      "include_colab_link": true
    },
    "kernelspec": {
      "display_name": "Python 3",
      "name": "python3"
    },
    "language_info": {
      "codemirror_mode": {
        "name": "ipython",
        "version": 3
      },
      "file_extension": ".py",
      "mimetype": "text/x-python",
      "name": "python",
      "nbconvert_exporter": "python",
      "pygments_lexer": "ipython3",
      "version": "3.10.12"
    }
  },
  "nbformat": 4,
  "nbformat_minor": 0
}