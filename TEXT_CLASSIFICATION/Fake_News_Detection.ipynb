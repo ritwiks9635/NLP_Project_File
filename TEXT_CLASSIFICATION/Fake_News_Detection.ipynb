{
  "cells": [
    {
      "cell_type": "markdown",
      "metadata": {
        "id": "view-in-github",
        "colab_type": "text"
      },
      "source": [
        "<a href=\"https://colab.research.google.com/github/ritwiks9635/My_priject_file_4/blob/main/Fake_News_Detection.ipynb\" target=\"_parent\"><img src=\"https://colab.research.google.com/assets/colab-badge.svg\" alt=\"Open In Colab\"/></a>"
      ]
    },
    {
      "cell_type": "code",
      "execution_count": null,
      "metadata": {
        "colab": {
          "background_save": true,
          "base_uri": "https://localhost:8080/"
        },
        "id": "uedSHDMFTdEC",
        "outputId": "f40a5e9a-2381-42ad-de73-603cc9e878fb"
      },
      "outputs": [
        {
          "output_type": "stream",
          "name": "stdout",
          "text": [
            "Mounted at /content/drive\n"
          ]
        }
      ],
      "source": [
        "from google.colab import drive\n",
        "drive.mount('/content/drive')"
      ]
    },
    {
      "cell_type": "markdown",
      "source": [
        "Fake News means incorporating information that leads people to the wrong paths. It can have real-world adverse effects that aim to intentionally deceive, gain attention, manipulate public opinion, or damage reputation. It is necessary to detect fake news mainly for media outlets to have the ability to attract viewers to their website to generate online advertising revenue."
      ],
      "metadata": {
        "id": "1l-mScjpp945"
      }
    },
    {
      "cell_type": "markdown",
      "source": [
        "Import modules"
      ],
      "metadata": {
        "id": "gx0UogUkn7Ak"
      }
    },
    {
      "cell_type": "code",
      "source": [
        "import numpy as np\n",
        "import pandas as pd\n",
        "\n",
        "  \n",
        "from tensorflow.keras.preprocessing.text import Tokenizer\n",
        "from tensorflow.keras.preprocessing.sequence import pad_sequences\n",
        "#from tensorflow.keras.utils import to_categorical\n",
        "from tensorflow.keras import regularizers\n",
        "  \n",
        "import pprint\n",
        "\n",
        "from sklearn.model_selection import train_test_split\n",
        "from sklearn import preprocessing\n",
        "tf.disable_eager_execution()"
      ],
      "metadata": {
        "id": "NWLn82yOPZ1L"
      },
      "execution_count": null,
      "outputs": []
    },
    {
      "cell_type": "code",
      "source": [
        "# load dataset"
      ],
      "metadata": {
        "id": "GtRYLfS_qLHg"
      },
      "execution_count": null,
      "outputs": []
    },
    {
      "cell_type": "code",
      "source": [
        "data = pd.read_csv(\"/content/drive/MyDrive/news.csv\")\n",
        "data.head()"
      ],
      "metadata": {
        "colab": {
          "base_uri": "https://localhost:8080/",
          "height": 652
        },
        "id": "p8WfJe5PP3Ce",
        "outputId": "24bb37bb-cbb3-452d-f7db-93d69915b3de"
      },
      "execution_count": null,
      "outputs": [
        {
          "output_type": "execute_result",
          "data": {
            "text/plain": [
              "   Unnamed: 0                                              title  \\\n",
              "0        8476                       You Can Smell Hillary’s Fear   \n",
              "1       10294  Watch The Exact Moment Paul Ryan Committed Pol...   \n",
              "2        3608        Kerry to go to Paris in gesture of sympathy   \n",
              "3       10142  Bernie supporters on Twitter erupt in anger ag...   \n",
              "4         875   The Battle of New York: Why This Primary Matters   \n",
              "\n",
              "                                                text label  \n",
              "0  Daniel Greenfield, a Shillman Journalism Fello...  FAKE  \n",
              "1  Google Pinterest Digg Linkedin Reddit Stumbleu...  FAKE  \n",
              "2  U.S. Secretary of State John F. Kerry said Mon...  REAL  \n",
              "3  — Kaydee King (@KaydeeKing) November 9, 2016 T...  FAKE  \n",
              "4  It's primary day in New York and front-runners...  REAL  "
            ],
            "text/html": [
              "\n",
              "  <div id=\"df-c265caf1-317f-427f-a567-064d9433d195\">\n",
              "    <div class=\"colab-df-container\">\n",
              "      <div>\n",
              "<style scoped>\n",
              "    .dataframe tbody tr th:only-of-type {\n",
              "        vertical-align: middle;\n",
              "    }\n",
              "\n",
              "    .dataframe tbody tr th {\n",
              "        vertical-align: top;\n",
              "    }\n",
              "\n",
              "    .dataframe thead th {\n",
              "        text-align: right;\n",
              "    }\n",
              "</style>\n",
              "<table border=\"1\" class=\"dataframe\">\n",
              "  <thead>\n",
              "    <tr style=\"text-align: right;\">\n",
              "      <th></th>\n",
              "      <th>Unnamed: 0</th>\n",
              "      <th>title</th>\n",
              "      <th>text</th>\n",
              "      <th>label</th>\n",
              "    </tr>\n",
              "  </thead>\n",
              "  <tbody>\n",
              "    <tr>\n",
              "      <th>0</th>\n",
              "      <td>8476</td>\n",
              "      <td>You Can Smell Hillary’s Fear</td>\n",
              "      <td>Daniel Greenfield, a Shillman Journalism Fello...</td>\n",
              "      <td>FAKE</td>\n",
              "    </tr>\n",
              "    <tr>\n",
              "      <th>1</th>\n",
              "      <td>10294</td>\n",
              "      <td>Watch The Exact Moment Paul Ryan Committed Pol...</td>\n",
              "      <td>Google Pinterest Digg Linkedin Reddit Stumbleu...</td>\n",
              "      <td>FAKE</td>\n",
              "    </tr>\n",
              "    <tr>\n",
              "      <th>2</th>\n",
              "      <td>3608</td>\n",
              "      <td>Kerry to go to Paris in gesture of sympathy</td>\n",
              "      <td>U.S. Secretary of State John F. Kerry said Mon...</td>\n",
              "      <td>REAL</td>\n",
              "    </tr>\n",
              "    <tr>\n",
              "      <th>3</th>\n",
              "      <td>10142</td>\n",
              "      <td>Bernie supporters on Twitter erupt in anger ag...</td>\n",
              "      <td>— Kaydee King (@KaydeeKing) November 9, 2016 T...</td>\n",
              "      <td>FAKE</td>\n",
              "    </tr>\n",
              "    <tr>\n",
              "      <th>4</th>\n",
              "      <td>875</td>\n",
              "      <td>The Battle of New York: Why This Primary Matters</td>\n",
              "      <td>It's primary day in New York and front-runners...</td>\n",
              "      <td>REAL</td>\n",
              "    </tr>\n",
              "  </tbody>\n",
              "</table>\n",
              "</div>\n",
              "      <button class=\"colab-df-convert\" onclick=\"convertToInteractive('df-c265caf1-317f-427f-a567-064d9433d195')\"\n",
              "              title=\"Convert this dataframe to an interactive table.\"\n",
              "              style=\"display:none;\">\n",
              "        \n",
              "  <svg xmlns=\"http://www.w3.org/2000/svg\" height=\"24px\"viewBox=\"0 0 24 24\"\n",
              "       width=\"24px\">\n",
              "    <path d=\"M0 0h24v24H0V0z\" fill=\"none\"/>\n",
              "    <path d=\"M18.56 5.44l.94 2.06.94-2.06 2.06-.94-2.06-.94-.94-2.06-.94 2.06-2.06.94zm-11 1L8.5 8.5l.94-2.06 2.06-.94-2.06-.94L8.5 2.5l-.94 2.06-2.06.94zm10 10l.94 2.06.94-2.06 2.06-.94-2.06-.94-.94-2.06-.94 2.06-2.06.94z\"/><path d=\"M17.41 7.96l-1.37-1.37c-.4-.4-.92-.59-1.43-.59-.52 0-1.04.2-1.43.59L10.3 9.45l-7.72 7.72c-.78.78-.78 2.05 0 2.83L4 21.41c.39.39.9.59 1.41.59.51 0 1.02-.2 1.41-.59l7.78-7.78 2.81-2.81c.8-.78.8-2.07 0-2.86zM5.41 20L4 18.59l7.72-7.72 1.47 1.35L5.41 20z\"/>\n",
              "  </svg>\n",
              "      </button>\n",
              "      \n",
              "  <style>\n",
              "    .colab-df-container {\n",
              "      display:flex;\n",
              "      flex-wrap:wrap;\n",
              "      gap: 12px;\n",
              "    }\n",
              "\n",
              "    .colab-df-convert {\n",
              "      background-color: #E8F0FE;\n",
              "      border: none;\n",
              "      border-radius: 50%;\n",
              "      cursor: pointer;\n",
              "      display: none;\n",
              "      fill: #1967D2;\n",
              "      height: 32px;\n",
              "      padding: 0 0 0 0;\n",
              "      width: 32px;\n",
              "    }\n",
              "\n",
              "    .colab-df-convert:hover {\n",
              "      background-color: #E2EBFA;\n",
              "      box-shadow: 0px 1px 2px rgba(60, 64, 67, 0.3), 0px 1px 3px 1px rgba(60, 64, 67, 0.15);\n",
              "      fill: #174EA6;\n",
              "    }\n",
              "\n",
              "    [theme=dark] .colab-df-convert {\n",
              "      background-color: #3B4455;\n",
              "      fill: #D2E3FC;\n",
              "    }\n",
              "\n",
              "    [theme=dark] .colab-df-convert:hover {\n",
              "      background-color: #434B5C;\n",
              "      box-shadow: 0px 1px 3px 1px rgba(0, 0, 0, 0.15);\n",
              "      filter: drop-shadow(0px 1px 2px rgba(0, 0, 0, 0.3));\n",
              "      fill: #FFFFFF;\n",
              "    }\n",
              "  </style>\n",
              "\n",
              "      <script>\n",
              "        const buttonEl =\n",
              "          document.querySelector('#df-c265caf1-317f-427f-a567-064d9433d195 button.colab-df-convert');\n",
              "        buttonEl.style.display =\n",
              "          google.colab.kernel.accessAllowed ? 'block' : 'none';\n",
              "\n",
              "        async function convertToInteractive(key) {\n",
              "          const element = document.querySelector('#df-c265caf1-317f-427f-a567-064d9433d195');\n",
              "          const dataTable =\n",
              "            await google.colab.kernel.invokeFunction('convertToInteractive',\n",
              "                                                     [key], {});\n",
              "          if (!dataTable) return;\n",
              "\n",
              "          const docLinkHtml = 'Like what you see? Visit the ' +\n",
              "            '<a target=\"_blank\" href=https://colab.research.google.com/notebooks/data_table.ipynb>data table notebook</a>'\n",
              "            + ' to learn more about interactive tables.';\n",
              "          element.innerHTML = '';\n",
              "          dataTable['output_type'] = 'display_data';\n",
              "          await google.colab.output.renderOutput(dataTable, element);\n",
              "          const docLink = document.createElement('div');\n",
              "          docLink.innerHTML = docLinkHtml;\n",
              "          element.appendChild(docLink);\n",
              "        }\n",
              "      </script>\n",
              "    </div>\n",
              "  </div>\n",
              "  "
            ]
          },
          "metadata": {},
          "execution_count": 5
        }
      ]
    },
    {
      "cell_type": "markdown",
      "source": [
        "Preprocessing Dataset"
      ],
      "metadata": {
        "id": "BiuVGLrHQfjN"
      }
    },
    {
      "cell_type": "code",
      "source": [
        "# The dataset contains one unnamed column. So we drop that column from the dataset."
      ],
      "metadata": {
        "id": "xuagV6sXqYx8"
      },
      "execution_count": null,
      "outputs": []
    },
    {
      "cell_type": "code",
      "source": [
        "data = data.drop([\"Unnamed: 0\"], axis = 1)\n",
        "data.head()"
      ],
      "metadata": {
        "colab": {
          "base_uri": "https://localhost:8080/",
          "height": 493
        },
        "id": "wqUYK2_eQcQS",
        "outputId": "20efa328-d642-4c6c-8da8-1200f2b829b8"
      },
      "execution_count": null,
      "outputs": [
        {
          "output_type": "execute_result",
          "data": {
            "text/plain": [
              "                                               title  \\\n",
              "0                       You Can Smell Hillary’s Fear   \n",
              "1  Watch The Exact Moment Paul Ryan Committed Pol...   \n",
              "2        Kerry to go to Paris in gesture of sympathy   \n",
              "3  Bernie supporters on Twitter erupt in anger ag...   \n",
              "4   The Battle of New York: Why This Primary Matters   \n",
              "\n",
              "                                                text label  \n",
              "0  Daniel Greenfield, a Shillman Journalism Fello...  FAKE  \n",
              "1  Google Pinterest Digg Linkedin Reddit Stumbleu...  FAKE  \n",
              "2  U.S. Secretary of State John F. Kerry said Mon...  REAL  \n",
              "3  — Kaydee King (@KaydeeKing) November 9, 2016 T...  FAKE  \n",
              "4  It's primary day in New York and front-runners...  REAL  "
            ],
            "text/html": [
              "\n",
              "  <div id=\"df-a38aa851-8cad-4af4-8a55-d90cc8b9d453\">\n",
              "    <div class=\"colab-df-container\">\n",
              "      <div>\n",
              "<style scoped>\n",
              "    .dataframe tbody tr th:only-of-type {\n",
              "        vertical-align: middle;\n",
              "    }\n",
              "\n",
              "    .dataframe tbody tr th {\n",
              "        vertical-align: top;\n",
              "    }\n",
              "\n",
              "    .dataframe thead th {\n",
              "        text-align: right;\n",
              "    }\n",
              "</style>\n",
              "<table border=\"1\" class=\"dataframe\">\n",
              "  <thead>\n",
              "    <tr style=\"text-align: right;\">\n",
              "      <th></th>\n",
              "      <th>title</th>\n",
              "      <th>text</th>\n",
              "      <th>label</th>\n",
              "    </tr>\n",
              "  </thead>\n",
              "  <tbody>\n",
              "    <tr>\n",
              "      <th>0</th>\n",
              "      <td>You Can Smell Hillary’s Fear</td>\n",
              "      <td>Daniel Greenfield, a Shillman Journalism Fello...</td>\n",
              "      <td>FAKE</td>\n",
              "    </tr>\n",
              "    <tr>\n",
              "      <th>1</th>\n",
              "      <td>Watch The Exact Moment Paul Ryan Committed Pol...</td>\n",
              "      <td>Google Pinterest Digg Linkedin Reddit Stumbleu...</td>\n",
              "      <td>FAKE</td>\n",
              "    </tr>\n",
              "    <tr>\n",
              "      <th>2</th>\n",
              "      <td>Kerry to go to Paris in gesture of sympathy</td>\n",
              "      <td>U.S. Secretary of State John F. Kerry said Mon...</td>\n",
              "      <td>REAL</td>\n",
              "    </tr>\n",
              "    <tr>\n",
              "      <th>3</th>\n",
              "      <td>Bernie supporters on Twitter erupt in anger ag...</td>\n",
              "      <td>— Kaydee King (@KaydeeKing) November 9, 2016 T...</td>\n",
              "      <td>FAKE</td>\n",
              "    </tr>\n",
              "    <tr>\n",
              "      <th>4</th>\n",
              "      <td>The Battle of New York: Why This Primary Matters</td>\n",
              "      <td>It's primary day in New York and front-runners...</td>\n",
              "      <td>REAL</td>\n",
              "    </tr>\n",
              "  </tbody>\n",
              "</table>\n",
              "</div>\n",
              "      <button class=\"colab-df-convert\" onclick=\"convertToInteractive('df-a38aa851-8cad-4af4-8a55-d90cc8b9d453')\"\n",
              "              title=\"Convert this dataframe to an interactive table.\"\n",
              "              style=\"display:none;\">\n",
              "        \n",
              "  <svg xmlns=\"http://www.w3.org/2000/svg\" height=\"24px\"viewBox=\"0 0 24 24\"\n",
              "       width=\"24px\">\n",
              "    <path d=\"M0 0h24v24H0V0z\" fill=\"none\"/>\n",
              "    <path d=\"M18.56 5.44l.94 2.06.94-2.06 2.06-.94-2.06-.94-.94-2.06-.94 2.06-2.06.94zm-11 1L8.5 8.5l.94-2.06 2.06-.94-2.06-.94L8.5 2.5l-.94 2.06-2.06.94zm10 10l.94 2.06.94-2.06 2.06-.94-2.06-.94-.94-2.06-.94 2.06-2.06.94z\"/><path d=\"M17.41 7.96l-1.37-1.37c-.4-.4-.92-.59-1.43-.59-.52 0-1.04.2-1.43.59L10.3 9.45l-7.72 7.72c-.78.78-.78 2.05 0 2.83L4 21.41c.39.39.9.59 1.41.59.51 0 1.02-.2 1.41-.59l7.78-7.78 2.81-2.81c.8-.78.8-2.07 0-2.86zM5.41 20L4 18.59l7.72-7.72 1.47 1.35L5.41 20z\"/>\n",
              "  </svg>\n",
              "      </button>\n",
              "      \n",
              "  <style>\n",
              "    .colab-df-container {\n",
              "      display:flex;\n",
              "      flex-wrap:wrap;\n",
              "      gap: 12px;\n",
              "    }\n",
              "\n",
              "    .colab-df-convert {\n",
              "      background-color: #E8F0FE;\n",
              "      border: none;\n",
              "      border-radius: 50%;\n",
              "      cursor: pointer;\n",
              "      display: none;\n",
              "      fill: #1967D2;\n",
              "      height: 32px;\n",
              "      padding: 0 0 0 0;\n",
              "      width: 32px;\n",
              "    }\n",
              "\n",
              "    .colab-df-convert:hover {\n",
              "      background-color: #E2EBFA;\n",
              "      box-shadow: 0px 1px 2px rgba(60, 64, 67, 0.3), 0px 1px 3px 1px rgba(60, 64, 67, 0.15);\n",
              "      fill: #174EA6;\n",
              "    }\n",
              "\n",
              "    [theme=dark] .colab-df-convert {\n",
              "      background-color: #3B4455;\n",
              "      fill: #D2E3FC;\n",
              "    }\n",
              "\n",
              "    [theme=dark] .colab-df-convert:hover {\n",
              "      background-color: #434B5C;\n",
              "      box-shadow: 0px 1px 3px 1px rgba(0, 0, 0, 0.15);\n",
              "      filter: drop-shadow(0px 1px 2px rgba(0, 0, 0, 0.3));\n",
              "      fill: #FFFFFF;\n",
              "    }\n",
              "  </style>\n",
              "\n",
              "      <script>\n",
              "        const buttonEl =\n",
              "          document.querySelector('#df-a38aa851-8cad-4af4-8a55-d90cc8b9d453 button.colab-df-convert');\n",
              "        buttonEl.style.display =\n",
              "          google.colab.kernel.accessAllowed ? 'block' : 'none';\n",
              "\n",
              "        async function convertToInteractive(key) {\n",
              "          const element = document.querySelector('#df-a38aa851-8cad-4af4-8a55-d90cc8b9d453');\n",
              "          const dataTable =\n",
              "            await google.colab.kernel.invokeFunction('convertToInteractive',\n",
              "                                                     [key], {});\n",
              "          if (!dataTable) return;\n",
              "\n",
              "          const docLinkHtml = 'Like what you see? Visit the ' +\n",
              "            '<a target=\"_blank\" href=https://colab.research.google.com/notebooks/data_table.ipynb>data table notebook</a>'\n",
              "            + ' to learn more about interactive tables.';\n",
              "          element.innerHTML = '';\n",
              "          dataTable['output_type'] = 'display_data';\n",
              "          await google.colab.output.renderOutput(dataTable, element);\n",
              "          const docLink = document.createElement('div');\n",
              "          docLink.innerHTML = docLinkHtml;\n",
              "          element.appendChild(docLink);\n",
              "        }\n",
              "      </script>\n",
              "    </div>\n",
              "  </div>\n",
              "  "
            ]
          },
          "metadata": {},
          "execution_count": 6
        }
      ]
    },
    {
      "cell_type": "markdown",
      "source": [
        "Data Encoding"
      ],
      "metadata": {
        "id": "1x5cu6xptCYh"
      }
    },
    {
      "cell_type": "code",
      "source": [
        "#It converts the categorical column into numerical values."
      ],
      "metadata": {
        "id": "eiho1MNctD2i"
      },
      "execution_count": null,
      "outputs": []
    },
    {
      "cell_type": "code",
      "source": [
        "le = preprocessing.LabelEncoder()\n",
        "data[\"label\"] = le.fit_transform(data[\"label\"])\n",
        "data.head()"
      ],
      "metadata": {
        "colab": {
          "base_uri": "https://localhost:8080/",
          "height": 493
        },
        "id": "kIXMhR3YQ9wJ",
        "outputId": "fbe26e5a-8d5c-46d1-c1b6-3b8dcc3f79fd"
      },
      "execution_count": null,
      "outputs": [
        {
          "output_type": "execute_result",
          "data": {
            "text/plain": [
              "                                               title  \\\n",
              "0                       You Can Smell Hillary’s Fear   \n",
              "1  Watch The Exact Moment Paul Ryan Committed Pol...   \n",
              "2        Kerry to go to Paris in gesture of sympathy   \n",
              "3  Bernie supporters on Twitter erupt in anger ag...   \n",
              "4   The Battle of New York: Why This Primary Matters   \n",
              "\n",
              "                                                text  label  \n",
              "0  Daniel Greenfield, a Shillman Journalism Fello...      0  \n",
              "1  Google Pinterest Digg Linkedin Reddit Stumbleu...      0  \n",
              "2  U.S. Secretary of State John F. Kerry said Mon...      1  \n",
              "3  — Kaydee King (@KaydeeKing) November 9, 2016 T...      0  \n",
              "4  It's primary day in New York and front-runners...      1  "
            ],
            "text/html": [
              "\n",
              "  <div id=\"df-96a89a88-ad0d-4dd6-b9c9-17a771d36bbd\">\n",
              "    <div class=\"colab-df-container\">\n",
              "      <div>\n",
              "<style scoped>\n",
              "    .dataframe tbody tr th:only-of-type {\n",
              "        vertical-align: middle;\n",
              "    }\n",
              "\n",
              "    .dataframe tbody tr th {\n",
              "        vertical-align: top;\n",
              "    }\n",
              "\n",
              "    .dataframe thead th {\n",
              "        text-align: right;\n",
              "    }\n",
              "</style>\n",
              "<table border=\"1\" class=\"dataframe\">\n",
              "  <thead>\n",
              "    <tr style=\"text-align: right;\">\n",
              "      <th></th>\n",
              "      <th>title</th>\n",
              "      <th>text</th>\n",
              "      <th>label</th>\n",
              "    </tr>\n",
              "  </thead>\n",
              "  <tbody>\n",
              "    <tr>\n",
              "      <th>0</th>\n",
              "      <td>You Can Smell Hillary’s Fear</td>\n",
              "      <td>Daniel Greenfield, a Shillman Journalism Fello...</td>\n",
              "      <td>0</td>\n",
              "    </tr>\n",
              "    <tr>\n",
              "      <th>1</th>\n",
              "      <td>Watch The Exact Moment Paul Ryan Committed Pol...</td>\n",
              "      <td>Google Pinterest Digg Linkedin Reddit Stumbleu...</td>\n",
              "      <td>0</td>\n",
              "    </tr>\n",
              "    <tr>\n",
              "      <th>2</th>\n",
              "      <td>Kerry to go to Paris in gesture of sympathy</td>\n",
              "      <td>U.S. Secretary of State John F. Kerry said Mon...</td>\n",
              "      <td>1</td>\n",
              "    </tr>\n",
              "    <tr>\n",
              "      <th>3</th>\n",
              "      <td>Bernie supporters on Twitter erupt in anger ag...</td>\n",
              "      <td>— Kaydee King (@KaydeeKing) November 9, 2016 T...</td>\n",
              "      <td>0</td>\n",
              "    </tr>\n",
              "    <tr>\n",
              "      <th>4</th>\n",
              "      <td>The Battle of New York: Why This Primary Matters</td>\n",
              "      <td>It's primary day in New York and front-runners...</td>\n",
              "      <td>1</td>\n",
              "    </tr>\n",
              "  </tbody>\n",
              "</table>\n",
              "</div>\n",
              "      <button class=\"colab-df-convert\" onclick=\"convertToInteractive('df-96a89a88-ad0d-4dd6-b9c9-17a771d36bbd')\"\n",
              "              title=\"Convert this dataframe to an interactive table.\"\n",
              "              style=\"display:none;\">\n",
              "        \n",
              "  <svg xmlns=\"http://www.w3.org/2000/svg\" height=\"24px\"viewBox=\"0 0 24 24\"\n",
              "       width=\"24px\">\n",
              "    <path d=\"M0 0h24v24H0V0z\" fill=\"none\"/>\n",
              "    <path d=\"M18.56 5.44l.94 2.06.94-2.06 2.06-.94-2.06-.94-.94-2.06-.94 2.06-2.06.94zm-11 1L8.5 8.5l.94-2.06 2.06-.94-2.06-.94L8.5 2.5l-.94 2.06-2.06.94zm10 10l.94 2.06.94-2.06 2.06-.94-2.06-.94-.94-2.06-.94 2.06-2.06.94z\"/><path d=\"M17.41 7.96l-1.37-1.37c-.4-.4-.92-.59-1.43-.59-.52 0-1.04.2-1.43.59L10.3 9.45l-7.72 7.72c-.78.78-.78 2.05 0 2.83L4 21.41c.39.39.9.59 1.41.59.51 0 1.02-.2 1.41-.59l7.78-7.78 2.81-2.81c.8-.78.8-2.07 0-2.86zM5.41 20L4 18.59l7.72-7.72 1.47 1.35L5.41 20z\"/>\n",
              "  </svg>\n",
              "      </button>\n",
              "      \n",
              "  <style>\n",
              "    .colab-df-container {\n",
              "      display:flex;\n",
              "      flex-wrap:wrap;\n",
              "      gap: 12px;\n",
              "    }\n",
              "\n",
              "    .colab-df-convert {\n",
              "      background-color: #E8F0FE;\n",
              "      border: none;\n",
              "      border-radius: 50%;\n",
              "      cursor: pointer;\n",
              "      display: none;\n",
              "      fill: #1967D2;\n",
              "      height: 32px;\n",
              "      padding: 0 0 0 0;\n",
              "      width: 32px;\n",
              "    }\n",
              "\n",
              "    .colab-df-convert:hover {\n",
              "      background-color: #E2EBFA;\n",
              "      box-shadow: 0px 1px 2px rgba(60, 64, 67, 0.3), 0px 1px 3px 1px rgba(60, 64, 67, 0.15);\n",
              "      fill: #174EA6;\n",
              "    }\n",
              "\n",
              "    [theme=dark] .colab-df-convert {\n",
              "      background-color: #3B4455;\n",
              "      fill: #D2E3FC;\n",
              "    }\n",
              "\n",
              "    [theme=dark] .colab-df-convert:hover {\n",
              "      background-color: #434B5C;\n",
              "      box-shadow: 0px 1px 3px 1px rgba(0, 0, 0, 0.15);\n",
              "      filter: drop-shadow(0px 1px 2px rgba(0, 0, 0, 0.3));\n",
              "      fill: #FFFFFF;\n",
              "    }\n",
              "  </style>\n",
              "\n",
              "      <script>\n",
              "        const buttonEl =\n",
              "          document.querySelector('#df-96a89a88-ad0d-4dd6-b9c9-17a771d36bbd button.colab-df-convert');\n",
              "        buttonEl.style.display =\n",
              "          google.colab.kernel.accessAllowed ? 'block' : 'none';\n",
              "\n",
              "        async function convertToInteractive(key) {\n",
              "          const element = document.querySelector('#df-96a89a88-ad0d-4dd6-b9c9-17a771d36bbd');\n",
              "          const dataTable =\n",
              "            await google.colab.kernel.invokeFunction('convertToInteractive',\n",
              "                                                     [key], {});\n",
              "          if (!dataTable) return;\n",
              "\n",
              "          const docLinkHtml = 'Like what you see? Visit the ' +\n",
              "            '<a target=\"_blank\" href=https://colab.research.google.com/notebooks/data_table.ipynb>data table notebook</a>'\n",
              "            + ' to learn more about interactive tables.';\n",
              "          element.innerHTML = '';\n",
              "          dataTable['output_type'] = 'display_data';\n",
              "          await google.colab.output.renderOutput(dataTable, element);\n",
              "          const docLink = document.createElement('div');\n",
              "          docLink.innerHTML = docLinkHtml;\n",
              "          element.appendChild(docLink);\n",
              "        }\n",
              "      </script>\n",
              "    </div>\n",
              "  </div>\n",
              "  "
            ]
          },
          "metadata": {},
          "execution_count": 8
        }
      ]
    },
    {
      "cell_type": "code",
      "source": [
        "# required some variables \n",
        "embedding_dim = 50\n",
        "max_length = 54\n",
        "trunc_type = 'post'\n",
        "padding_type = 'post'\n",
        "oov_tok = \"<OOV>\"\n",
        "training_size = 3000\n",
        "test_portion = .1"
      ],
      "metadata": {
        "id": "PqFic7wgUZDD"
      },
      "execution_count": null,
      "outputs": []
    },
    {
      "cell_type": "markdown",
      "source": [
        "Tokenization"
      ],
      "metadata": {
        "id": "z6P7jtIetfEr"
      }
    },
    {
      "cell_type": "code",
      "source": [
        "# This process divides a large piece of continuous text into distinct units or tokens basically"
      ],
      "metadata": {
        "id": "yXpeZ12JteLO"
      },
      "execution_count": null,
      "outputs": []
    },
    {
      "cell_type": "code",
      "source": [
        "title = []\n",
        "text = []\n",
        "label = []\n",
        "for x in range(training_size):\n",
        "  title.append(data[\"title\"][x])\n",
        "  text.append(data[\"text\"][x])\n",
        "  label.append(data[\"label\"][x])"
      ],
      "metadata": {
        "id": "nelCCvhPUc0R"
      },
      "execution_count": null,
      "outputs": []
    },
    {
      "cell_type": "code",
      "source": [
        "len(title)"
      ],
      "metadata": {
        "colab": {
          "base_uri": "https://localhost:8080/"
        },
        "id": "wzR5Dbj5Vtqf",
        "outputId": "7c865e2c-5ab7-4d13-8e63-4a1bb7c92458"
      },
      "execution_count": null,
      "outputs": [
        {
          "output_type": "execute_result",
          "data": {
            "text/plain": [
              "3000"
            ]
          },
          "metadata": {},
          "execution_count": 12
        }
      ]
    },
    {
      "cell_type": "code",
      "source": [
        "# Applying Tokenization"
      ],
      "metadata": {
        "id": "w513o4GKtu0v"
      },
      "execution_count": null,
      "outputs": []
    },
    {
      "cell_type": "code",
      "source": [
        "tokenizer = Tokenizer()\n",
        "tokenizer.fit_on_texts(title)\n",
        "word_index = tokenizer.word_index\n",
        "vocab_size = len(word_index)\n",
        "sequence = tokenizer.texts_to_sequences(title)\n",
        "pad_sequences = pad_sequences(sequence, padding = padding_type, truncating = trunc_type)\n",
        "split = int(test_portion * training_size)\n",
        "training_sequence = pad_sequences[split : training_size]\n",
        "test_sequence = pad_sequences[0 : split]\n",
        "training_labels = label[split : training_size]\n",
        "test_labels = label[0 : split]"
      ],
      "metadata": {
        "id": "LBEQFKzGV1ut"
      },
      "execution_count": null,
      "outputs": []
    },
    {
      "cell_type": "code",
      "source": [
        "len(training_sequence), len(test_sequence)"
      ],
      "metadata": {
        "colab": {
          "base_uri": "https://localhost:8080/"
        },
        "id": "CH6USXH0ahoR",
        "outputId": "d497758a-a086-43dc-be2d-2db352e3e763"
      },
      "execution_count": null,
      "outputs": [
        {
          "output_type": "execute_result",
          "data": {
            "text/plain": [
              "(2700, 300)"
            ]
          },
          "metadata": {},
          "execution_count": 44
        }
      ]
    },
    {
      "cell_type": "markdown",
      "source": [
        "Generating Word Embedding"
      ],
      "metadata": {
        "id": "dFz02JKZt2Cs"
      }
    },
    {
      "cell_type": "code",
      "source": [
        "# It allows words with similar meanings \n",
        "# to have a similar representation.\n",
        "# Here each individual word is\n",
        "# represented as real-valued vectors\n",
        "# in a predefined vector space."
      ],
      "metadata": {
        "id": "mE6R06ist3Pm"
      },
      "execution_count": null,
      "outputs": []
    },
    {
      "cell_type": "code",
      "source": [
        "embedding_in = {}\n",
        "with open(\"/content/drive/MyDrive/Copy of glove.6B.50d.txt\") as f:\n",
        "  for line in f:\n",
        "    values = line.split()\n",
        "    word = values[0]\n",
        "    coefs = np.asarray(values[1:], dtype=\"float32\")\n",
        "    embedding_in[word] = coefs \n",
        "\n",
        "embeddings_matrix = np.zeros((vocab_size+1, embedding_dim))\n",
        "for word, i in word_index.items():\n",
        "    embedding_vector = embedding_in.get(word)\n",
        "    if embedding_vector is not None:\n",
        "        embeddings_matrix[i] = embedding_vector"
      ],
      "metadata": {
        "id": "rXZUj0oFbKJq"
      },
      "execution_count": null,
      "outputs": []
    },
    {
      "cell_type": "markdown",
      "source": [
        "Creating Model Architecture"
      ],
      "metadata": {
        "id": "eUjUthIiuPHD"
      }
    },
    {
      "cell_type": "code",
      "source": [
        "\n",
        "model = tf.keras.Sequential([\n",
        "    tf.keras.layers.Embedding(vocab_size+1, embedding_dim,\n",
        "                              input_length=max_length,\n",
        "                              weights=[embeddings_matrix],\n",
        "                              trainable=False),\n",
        "    tf.keras.layers.Dropout(0.2),\n",
        "    tf.keras.layers.Conv1D(64, 5, activation='relu'),\n",
        "    tf.keras.layers.MaxPooling1D(pool_size=4),\n",
        "    tf.keras.layers.LSTM(64),\n",
        "    tf.keras.layers.Dense(1, activation='sigmoid')\n",
        "])"
      ],
      "metadata": {
        "id": "6TVP3A-ZdRy6"
      },
      "execution_count": null,
      "outputs": []
    },
    {
      "cell_type": "code",
      "source": [
        "model.compile(optimizer = \"adam\", loss = \"binary_crossentropy\", metrics=[\"accuracy\"])"
      ],
      "metadata": {
        "id": "wdF0X0uNgiZH"
      },
      "execution_count": null,
      "outputs": []
    },
    {
      "cell_type": "code",
      "source": [
        "model.summary()"
      ],
      "metadata": {
        "colab": {
          "base_uri": "https://localhost:8080/"
        },
        "id": "Y27lZ-4ziX32",
        "outputId": "93bdf180-d444-49eb-a441-4b09a6d0edb1"
      },
      "execution_count": null,
      "outputs": [
        {
          "output_type": "stream",
          "name": "stdout",
          "text": [
            "Model: \"sequential\"\n",
            "_________________________________________________________________\n",
            " Layer (type)                Output Shape              Param #   \n",
            "=================================================================\n",
            " embedding (Embedding)       (None, 54, 50)            377600    \n",
            "                                                                 \n",
            " dropout (Dropout)           (None, 54, 50)            0         \n",
            "                                                                 \n",
            " conv1d (Conv1D)             (None, 50, 64)            16064     \n",
            "                                                                 \n",
            " max_pooling1d (MaxPooling1D  (None, 12, 64)           0         \n",
            " )                                                               \n",
            "                                                                 \n",
            " lstm (LSTM)                 (None, 64)                33024     \n",
            "                                                                 \n",
            " dense (Dense)               (None, 1)                 65        \n",
            "                                                                 \n",
            "=================================================================\n",
            "Total params: 426,753\n",
            "Trainable params: 49,153\n",
            "Non-trainable params: 377,600\n",
            "_________________________________________________________________\n"
          ]
        }
      ]
    },
    {
      "cell_type": "markdown",
      "source": [
        "Train the Model"
      ],
      "metadata": {
        "id": "GgQi1y7wYiDK"
      }
    },
    {
      "cell_type": "code",
      "source": [
        "training_pad = np.array(training_sequence)\n",
        "training_labels = np.array(training_labels)\n",
        "test_pad = np.array(test_sequence)\n",
        "test_labels = np.array(test_labels)"
      ],
      "metadata": {
        "id": "4r7OmRSJfF4g"
      },
      "execution_count": null,
      "outputs": []
    },
    {
      "cell_type": "code",
      "source": [
        "model.fit(training_pad, training_labels, validation_data = (test_pad, test_labels), epochs = 50, verbose=2)"
      ],
      "metadata": {
        "colab": {
          "base_uri": "https://localhost:8080/"
        },
        "id": "8ytvTG0XjtxS",
        "outputId": "18469cd8-fac2-4bb9-e68c-72d3e4404605"
      },
      "execution_count": null,
      "outputs": [
        {
          "output_type": "stream",
          "name": "stdout",
          "text": [
            "Train on 2700 samples, validate on 300 samples\n",
            "Epoch 1/50\n"
          ]
        },
        {
          "output_type": "stream",
          "name": "stderr",
          "text": [
            "/usr/local/lib/python3.10/dist-packages/keras/engine/training_v1.py:2335: UserWarning: `Model.state_updates` will be removed in a future version. This property should not be used in TensorFlow 2.0, as `updates` are applied automatically.\n",
            "  updates = self.state_updates\n"
          ]
        },
        {
          "output_type": "stream",
          "name": "stdout",
          "text": [
            "2700/2700 - 3s - loss: 0.6417 - accuracy: 0.6196 - val_loss: 0.5569 - val_accuracy: 0.6967 - 3s/epoch - 1ms/sample\n",
            "Epoch 2/50\n",
            "2700/2700 - 2s - loss: 0.5790 - accuracy: 0.6956 - val_loss: 0.5221 - val_accuracy: 0.7133 - 2s/epoch - 686us/sample\n",
            "Epoch 3/50\n",
            "2700/2700 - 2s - loss: 0.5388 - accuracy: 0.7330 - val_loss: 0.4937 - val_accuracy: 0.7433 - 2s/epoch - 778us/sample\n",
            "Epoch 4/50\n",
            "2700/2700 - 3s - loss: 0.5001 - accuracy: 0.7456 - val_loss: 0.5193 - val_accuracy: 0.7267 - 3s/epoch - 1ms/sample\n",
            "Epoch 5/50\n",
            "2700/2700 - 2s - loss: 0.4572 - accuracy: 0.7844 - val_loss: 0.4550 - val_accuracy: 0.7733 - 2s/epoch - 725us/sample\n",
            "Epoch 6/50\n",
            "2700/2700 - 2s - loss: 0.3931 - accuracy: 0.8219 - val_loss: 0.4845 - val_accuracy: 0.7533 - 2s/epoch - 674us/sample\n",
            "Epoch 7/50\n",
            "2700/2700 - 2s - loss: 0.3807 - accuracy: 0.8404 - val_loss: 0.4829 - val_accuracy: 0.7633 - 2s/epoch - 668us/sample\n",
            "Epoch 8/50\n",
            "2700/2700 - 2s - loss: 0.3152 - accuracy: 0.8678 - val_loss: 0.4875 - val_accuracy: 0.7767 - 2s/epoch - 667us/sample\n",
            "Epoch 9/50\n",
            "2700/2700 - 2s - loss: 0.2806 - accuracy: 0.8848 - val_loss: 0.6002 - val_accuracy: 0.7367 - 2s/epoch - 663us/sample\n",
            "Epoch 10/50\n",
            "2700/2700 - 3s - loss: 0.2763 - accuracy: 0.8870 - val_loss: 0.5194 - val_accuracy: 0.7633 - 3s/epoch - 961us/sample\n",
            "Epoch 11/50\n",
            "2700/2700 - 3s - loss: 0.2381 - accuracy: 0.9037 - val_loss: 0.5562 - val_accuracy: 0.7633 - 3s/epoch - 1ms/sample\n",
            "Epoch 12/50\n",
            "2700/2700 - 2s - loss: 0.2048 - accuracy: 0.9189 - val_loss: 0.6295 - val_accuracy: 0.7400 - 2s/epoch - 684us/sample\n",
            "Epoch 13/50\n",
            "2700/2700 - 2s - loss: 0.2066 - accuracy: 0.9119 - val_loss: 0.6208 - val_accuracy: 0.7467 - 2s/epoch - 679us/sample\n",
            "Epoch 14/50\n",
            "2700/2700 - 2s - loss: 0.2147 - accuracy: 0.9104 - val_loss: 0.5516 - val_accuracy: 0.7567 - 2s/epoch - 678us/sample\n",
            "Epoch 15/50\n",
            "2700/2700 - 2s - loss: 0.1775 - accuracy: 0.9278 - val_loss: 0.5825 - val_accuracy: 0.7533 - 2s/epoch - 666us/sample\n",
            "Epoch 16/50\n",
            "2700/2700 - 2s - loss: 0.1553 - accuracy: 0.9352 - val_loss: 0.6563 - val_accuracy: 0.7500 - 2s/epoch - 713us/sample\n",
            "Epoch 17/50\n",
            "2700/2700 - 3s - loss: 0.1576 - accuracy: 0.9389 - val_loss: 0.7559 - val_accuracy: 0.7400 - 3s/epoch - 1ms/sample\n",
            "Epoch 18/50\n",
            "2700/2700 - 2s - loss: 0.1568 - accuracy: 0.9381 - val_loss: 0.6517 - val_accuracy: 0.7267 - 2s/epoch - 801us/sample\n",
            "Epoch 19/50\n",
            "2700/2700 - 2s - loss: 0.1374 - accuracy: 0.9474 - val_loss: 0.7857 - val_accuracy: 0.7567 - 2s/epoch - 688us/sample\n",
            "Epoch 20/50\n",
            "2700/2700 - 2s - loss: 0.1449 - accuracy: 0.9444 - val_loss: 0.6788 - val_accuracy: 0.7800 - 2s/epoch - 663us/sample\n",
            "Epoch 21/50\n",
            "2700/2700 - 2s - loss: 0.1070 - accuracy: 0.9574 - val_loss: 0.7890 - val_accuracy: 0.7467 - 2s/epoch - 673us/sample\n",
            "Epoch 22/50\n",
            "2700/2700 - 2s - loss: 0.1159 - accuracy: 0.9541 - val_loss: 0.7584 - val_accuracy: 0.7600 - 2s/epoch - 689us/sample\n",
            "Epoch 23/50\n",
            "2700/2700 - 2s - loss: 0.1123 - accuracy: 0.9585 - val_loss: 0.7030 - val_accuracy: 0.7400 - 2s/epoch - 816us/sample\n",
            "Epoch 24/50\n",
            "2700/2700 - 3s - loss: 0.1179 - accuracy: 0.9552 - val_loss: 0.7065 - val_accuracy: 0.7233 - 3s/epoch - 1ms/sample\n",
            "Epoch 25/50\n",
            "2700/2700 - 2s - loss: 0.1027 - accuracy: 0.9581 - val_loss: 0.7408 - val_accuracy: 0.7500 - 2s/epoch - 672us/sample\n",
            "Epoch 26/50\n",
            "2700/2700 - 2s - loss: 0.1042 - accuracy: 0.9574 - val_loss: 0.7945 - val_accuracy: 0.7300 - 2s/epoch - 665us/sample\n",
            "Epoch 27/50\n",
            "2700/2700 - 2s - loss: 0.0996 - accuracy: 0.9607 - val_loss: 0.5965 - val_accuracy: 0.7800 - 2s/epoch - 721us/sample\n",
            "Epoch 28/50\n",
            "2700/2700 - 2s - loss: 0.0755 - accuracy: 0.9715 - val_loss: 0.7133 - val_accuracy: 0.7800 - 2s/epoch - 674us/sample\n",
            "Epoch 29/50\n",
            "2700/2700 - 2s - loss: 0.0920 - accuracy: 0.9656 - val_loss: 0.7360 - val_accuracy: 0.7567 - 2s/epoch - 687us/sample\n",
            "Epoch 30/50\n",
            "2700/2700 - 3s - loss: 0.0808 - accuracy: 0.9681 - val_loss: 0.8115 - val_accuracy: 0.7667 - 3s/epoch - 1ms/sample\n",
            "Epoch 31/50\n",
            "2700/2700 - 3s - loss: 0.0998 - accuracy: 0.9633 - val_loss: 0.7235 - val_accuracy: 0.7300 - 3s/epoch - 993us/sample\n",
            "Epoch 32/50\n",
            "2700/2700 - 2s - loss: 0.0785 - accuracy: 0.9730 - val_loss: 1.0814 - val_accuracy: 0.7367 - 2s/epoch - 650us/sample\n",
            "Epoch 33/50\n",
            "2700/2700 - 2s - loss: 0.0963 - accuracy: 0.9689 - val_loss: 0.7955 - val_accuracy: 0.7800 - 2s/epoch - 671us/sample\n",
            "Epoch 34/50\n",
            "2700/2700 - 2s - loss: 0.0757 - accuracy: 0.9693 - val_loss: 0.8264 - val_accuracy: 0.7333 - 2s/epoch - 674us/sample\n",
            "Epoch 35/50\n",
            "2700/2700 - 2s - loss: 0.0894 - accuracy: 0.9656 - val_loss: 0.6588 - val_accuracy: 0.7733 - 2s/epoch - 645us/sample\n",
            "Epoch 36/50\n",
            "2700/2700 - 2s - loss: 0.0669 - accuracy: 0.9726 - val_loss: 0.8904 - val_accuracy: 0.7600 - 2s/epoch - 649us/sample\n",
            "Epoch 37/50\n",
            "2700/2700 - 3s - loss: 0.0656 - accuracy: 0.9756 - val_loss: 0.8474 - val_accuracy: 0.7433 - 3s/epoch - 1ms/sample\n",
            "Epoch 38/50\n",
            "2700/2700 - 2s - loss: 0.0672 - accuracy: 0.9737 - val_loss: 0.8916 - val_accuracy: 0.7600 - 2s/epoch - 845us/sample\n",
            "Epoch 39/50\n",
            "2700/2700 - 2s - loss: 0.0681 - accuracy: 0.9759 - val_loss: 0.8388 - val_accuracy: 0.7533 - 2s/epoch - 655us/sample\n",
            "Epoch 40/50\n",
            "2700/2700 - 2s - loss: 0.0597 - accuracy: 0.9770 - val_loss: 0.8212 - val_accuracy: 0.7600 - 2s/epoch - 670us/sample\n",
            "Epoch 41/50\n",
            "2700/2700 - 2s - loss: 0.0671 - accuracy: 0.9763 - val_loss: 0.9064 - val_accuracy: 0.7667 - 2s/epoch - 661us/sample\n",
            "Epoch 42/50\n",
            "2700/2700 - 2s - loss: 0.0609 - accuracy: 0.9778 - val_loss: 0.8459 - val_accuracy: 0.7600 - 2s/epoch - 673us/sample\n",
            "Epoch 43/50\n",
            "2700/2700 - 2s - loss: 0.0769 - accuracy: 0.9767 - val_loss: 0.7148 - val_accuracy: 0.7767 - 2s/epoch - 711us/sample\n",
            "Epoch 44/50\n",
            "2700/2700 - 3s - loss: 0.0621 - accuracy: 0.9789 - val_loss: 0.7036 - val_accuracy: 0.7733 - 3s/epoch - 1ms/sample\n",
            "Epoch 45/50\n",
            "2700/2700 - 2s - loss: 0.0602 - accuracy: 0.9781 - val_loss: 0.7976 - val_accuracy: 0.7600 - 2s/epoch - 734us/sample\n",
            "Epoch 46/50\n",
            "2700/2700 - 2s - loss: 0.0566 - accuracy: 0.9800 - val_loss: 0.8775 - val_accuracy: 0.7467 - 2s/epoch - 669us/sample\n",
            "Epoch 47/50\n",
            "2700/2700 - 2s - loss: 0.0460 - accuracy: 0.9830 - val_loss: 0.9924 - val_accuracy: 0.7600 - 2s/epoch - 695us/sample\n",
            "Epoch 48/50\n",
            "2700/2700 - 2s - loss: 0.0748 - accuracy: 0.9744 - val_loss: 0.7263 - val_accuracy: 0.7400 - 2s/epoch - 669us/sample\n",
            "Epoch 49/50\n",
            "2700/2700 - 2s - loss: 0.0552 - accuracy: 0.9826 - val_loss: 1.0102 - val_accuracy: 0.7433 - 2s/epoch - 642us/sample\n",
            "Epoch 50/50\n",
            "2700/2700 - 3s - loss: 0.0804 - accuracy: 0.9730 - val_loss: 0.8922 - val_accuracy: 0.7700 - 3s/epoch - 1ms/sample\n"
          ]
        },
        {
          "output_type": "execute_result",
          "data": {
            "text/plain": [
              "<keras.callbacks.History at 0x7f3c70739870>"
            ]
          },
          "metadata": {},
          "execution_count": 72
        }
      ]
    },
    {
      "cell_type": "markdown",
      "source": [
        "Model Prediction"
      ],
      "metadata": {
        "id": "M1j_vnNCY3qV"
      }
    },
    {
      "cell_type": "code",
      "source": [
        "#Now we will try to test the model by using some news text by predicting whether it is true or false."
      ],
      "metadata": {
        "id": "PHMkX2rclX4j"
      },
      "execution_count": null,
      "outputs": []
    },
    {
      "cell_type": "code",
      "source": [
        "# sample text to check if fake or not\n",
        "X = \"Bernie supporters on Twitter erupt in anger against the DNC: 'We tried to warn you!'\"\n",
        "  \n",
        "# detection\n",
        "sequences = tokenizer.texts_to_sequences([X])[0]\n",
        "sequences = pad_sequences([sequences], maxlen=54,\n",
        "                          padding=padding_type, \n",
        "                          truncating=trunc_type)\n",
        "if(model.predict(sequences, verbose=0)[0][0] >= 0.5):\n",
        "    print(\"This news is True\")\n",
        "else:\n",
        "    print(\"This news is false\")"
      ],
      "metadata": {
        "colab": {
          "base_uri": "https://localhost:8080/"
        },
        "id": "dyGsuIzjkNLx",
        "outputId": "3d929e92-2412-4912-ad77-245d93662976"
      },
      "execution_count": null,
      "outputs": [
        {
          "output_type": "stream",
          "name": "stdout",
          "text": [
            "This news is false\n"
          ]
        }
      ]
    }
  ],
  "metadata": {
    "colab": {
      "provenance": [],
      "name": "Fake News Detection.ipynb",
      "include_colab_link": true
    },
    "kernelspec": {
      "display_name": "Python 3",
      "name": "python3"
    },
    "language_info": {
      "name": "python"
    }
  },
  "nbformat": 4,
  "nbformat_minor": 0
}